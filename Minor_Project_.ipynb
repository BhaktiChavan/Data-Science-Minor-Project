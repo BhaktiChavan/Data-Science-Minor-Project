{
  "nbformat": 4,
  "nbformat_minor": 0,
  "metadata": {
    "colab": {
      "name": "Minor Project .ipynb",
      "provenance": []
    },
    "kernelspec": {
      "name": "python3",
      "display_name": "Python 3"
    },
    "language_info": {
      "name": "python"
    }
  },
  "cells": [
    {
      "cell_type": "code",
      "metadata": {
        "id": "2LqaHgAmvd5S",
        "colab": {
          "base_uri": "https://localhost:8080/"
        },
        "outputId": "7633677c-5055-4bdc-b648-bfc56b523a33"
      },
      "source": [
        "#Installing Bing Image Downloader\n",
        "!pip install bing-image-downloader"
      ],
      "execution_count": 1,
      "outputs": [
        {
          "output_type": "stream",
          "text": [
            "Collecting bing-image-downloader\n",
            "  Downloading https://files.pythonhosted.org/packages/0d/bf/537a61030b84ae4cd5022d5c7b014fd9bc3ce7c02358919153a6658a61d3/bing_image_downloader-1.0.4-py3-none-any.whl\n",
            "Installing collected packages: bing-image-downloader\n",
            "Successfully installed bing-image-downloader-1.0.4\n"
          ],
          "name": "stdout"
        }
      ]
    },
    {
      "cell_type": "code",
      "metadata": {
        "id": "PZKITA0JIQN0",
        "colab": {
          "base_uri": "https://localhost:8080/"
        },
        "outputId": "7ed784f5-e471-4757-d0b7-c86dc4cc7778"
      },
      "source": [
        "!pip install ipython-autotime\n",
        "%load_ext autotime"
      ],
      "execution_count": 2,
      "outputs": [
        {
          "output_type": "stream",
          "text": [
            "Collecting ipython-autotime\n",
            "  Downloading https://files.pythonhosted.org/packages/b4/c9/b413a24f759641bc27ef98c144b590023c8038dfb8a3f09e713e9dff12c1/ipython_autotime-0.3.1-py2.py3-none-any.whl\n",
            "Requirement already satisfied: ipython in /usr/local/lib/python3.7/dist-packages (from ipython-autotime) (5.5.0)\n",
            "Requirement already satisfied: decorator in /usr/local/lib/python3.7/dist-packages (from ipython->ipython-autotime) (4.4.2)\n",
            "Requirement already satisfied: pexpect; sys_platform != \"win32\" in /usr/local/lib/python3.7/dist-packages (from ipython->ipython-autotime) (4.8.0)\n",
            "Requirement already satisfied: pygments in /usr/local/lib/python3.7/dist-packages (from ipython->ipython-autotime) (2.6.1)\n",
            "Requirement already satisfied: prompt-toolkit<2.0.0,>=1.0.4 in /usr/local/lib/python3.7/dist-packages (from ipython->ipython-autotime) (1.0.18)\n",
            "Requirement already satisfied: simplegeneric>0.8 in /usr/local/lib/python3.7/dist-packages (from ipython->ipython-autotime) (0.8.1)\n",
            "Requirement already satisfied: traitlets>=4.2 in /usr/local/lib/python3.7/dist-packages (from ipython->ipython-autotime) (5.0.5)\n",
            "Requirement already satisfied: pickleshare in /usr/local/lib/python3.7/dist-packages (from ipython->ipython-autotime) (0.7.5)\n",
            "Requirement already satisfied: setuptools>=18.5 in /usr/local/lib/python3.7/dist-packages (from ipython->ipython-autotime) (54.1.2)\n",
            "Requirement already satisfied: ptyprocess>=0.5 in /usr/local/lib/python3.7/dist-packages (from pexpect; sys_platform != \"win32\"->ipython->ipython-autotime) (0.7.0)\n",
            "Requirement already satisfied: six>=1.9.0 in /usr/local/lib/python3.7/dist-packages (from prompt-toolkit<2.0.0,>=1.0.4->ipython->ipython-autotime) (1.15.0)\n",
            "Requirement already satisfied: wcwidth in /usr/local/lib/python3.7/dist-packages (from prompt-toolkit<2.0.0,>=1.0.4->ipython->ipython-autotime) (0.2.5)\n",
            "Requirement already satisfied: ipython-genutils in /usr/local/lib/python3.7/dist-packages (from traitlets>=4.2->ipython->ipython-autotime) (0.2.0)\n",
            "Installing collected packages: ipython-autotime\n",
            "Successfully installed ipython-autotime-0.3.1\n",
            "time: 1.31 ms (started: 2021-03-30 15:59:49 +00:00)\n"
          ],
          "name": "stdout"
        }
      ]
    },
    {
      "cell_type": "code",
      "metadata": {
        "id": "UK1MK71_y0YC",
        "colab": {
          "base_uri": "https://localhost:8080/"
        },
        "outputId": "a3a6c2f7-ca49-49f6-931b-f145dbed38e2"
      },
      "source": [
        "!mkdir  Images"
      ],
      "execution_count": 3,
      "outputs": [
        {
          "output_type": "stream",
          "text": [
            "time: 115 ms (started: 2021-03-30 15:59:49 +00:00)\n"
          ],
          "name": "stdout"
        }
      ]
    },
    {
      "cell_type": "code",
      "metadata": {
        "id": "A7BqY52iz6N_",
        "colab": {
          "base_uri": "https://localhost:8080/"
        },
        "outputId": "b6a2c774-fe35-4d65-d6bb-9eb0f274b0c3"
      },
      "source": [
        "from bing_image_downloader import downloader\n",
        "import pandas as pd\n",
        "import numpy as np"
      ],
      "execution_count": 4,
      "outputs": [
        {
          "output_type": "stream",
          "text": [
            "time: 11.5 ms (started: 2021-03-30 15:59:49 +00:00)\n"
          ],
          "name": "stdout"
        }
      ]
    },
    {
      "cell_type": "code",
      "metadata": {
        "id": "sEOKk46Zz7O8",
        "colab": {
          "base_uri": "https://localhost:8080/"
        },
        "outputId": "b13a842c-7cf8-4c5d-eeed-e21683b6caf5"
      },
      "source": [
        "downloader.download(\"Choclate Cupcake\", limit= 50, output_dir=\"Images\")\n",
        "downloader.download(\"Ironman Cartoon\", limit=50, output_dir=\"Images\")\n",
        "downloader.download(\"Smiley Ball\",limit=50,output_dir='Images')\n"
      ],
      "execution_count": 5,
      "outputs": [
        {
          "output_type": "stream",
          "text": [
            "\n",
            "\n",
            "[!!]Indexing page: 1\n",
            "\n",
            "[%] Indexed 11 Images on Page 1.\n",
            "\n",
            "===============================================\n",
            "\n",
            "[%] Downloading Image #1 from https://cdn.sallysbakingaddiction.com/wp-content/uploads/2014/06/best-chocolate-cupcakes.jpg\n",
            "[%] File Downloaded !\n",
            "\n",
            "[%] Downloading Image #2 from https://www.mypetsname.com/wp-content/uploads/2019/12/Male-Brown-Lab.jpg\n",
            "[%] File Downloaded !\n",
            "\n",
            "[%] Downloading Image #3 from https://www.webstaurantstore.com/images/products/extra_large/211433/951013.jpg\n",
            "[%] File Downloaded !\n",
            "\n",
            "[%] Downloading Image #4 from http://www.handletheheat.com/wp-content/uploads/2016/02/Best-Chocolate-Cupcakes-01.jpg\n",
            "[%] File Downloaded !\n",
            "\n",
            "[%] Downloading Image #5 from http://www.lemonsforlulu.com/wp-content/uploads/2014/03/Candy-Land-Cupcakes-5.jpg\n",
            "[%] File Downloaded !\n",
            "\n",
            "[%] Downloading Image #6 from https://www.lifeloveandsugar.com/wp-content/uploads/2015/03/Moist_Chocolate_Cupcakes7.jpg\n",
            "[%] File Downloaded !\n",
            "\n",
            "[%] Downloading Image #7 from http://triedandtasty.com/wp-content/uploads/2016/05/Chocolate-Frosted-Donuts-with-Sprinkles-WM.jpg\n",
            "[%] File Downloaded !\n",
            "\n",
            "[%] Downloading Image #8 from https://media.istockphoto.com/vectors/chocolate-cake-slice-icon-cartoon-style-vector-id675045130?k=6&amp;m=675045130&amp;s=612x612&amp;w=0&amp;h=VMIcDZ0NLBKDEmpYQ9Xv1kaA1nVY1o4MDKVgP-faq10=\n",
            "[%] File Downloaded !\n",
            "\n",
            "[%] Downloading Image #9 from http://1.bp.blogspot.com/-HN5mANruf0k/TbmtZ3VvnwI/AAAAAAAAAFU/lsm3ado0d2Y/s1600/Wicked-Hot-Chocolate.jpg\n",
            "[%] File Downloaded !\n",
            "\n",
            "[%] Downloading Image #10 from http://www.marthastewart.com/sites/files/marthastewart.com/imagecache/wmax-520-highdpi/ecl/one-bowl-cake-edfw2057-1_vert.jpg\n",
            "[!] Issue getting: http://www.marthastewart.com/sites/files/marthastewart.com/imagecache/wmax-520-highdpi/ecl/one-bowl-cake-edfw2057-1_vert.jpg\n",
            "[!] Error:: HTTP Error 503: Service Unavailable\n",
            "[%] Downloading Image #10 from https://www.cookiemadness.net/wp-content/uploads/2016/04/brownsugarcupcake.jpg\n",
            "[%] File Downloaded !\n",
            "\n",
            "\n",
            "\n",
            "[!!]Indexing page: 2\n",
            "\n",
            "[%] Indexed 11 Images on Page 2.\n",
            "\n",
            "===============================================\n",
            "\n",
            "[%] Downloading Image #11 from https://cdn.sallysbakingaddiction.com/wp-content/uploads/2014/06/best-chocolate-cupcakes.jpg\n",
            "[%] File Downloaded !\n",
            "\n",
            "[%] Downloading Image #12 from https://www.mypetsname.com/wp-content/uploads/2019/12/Male-Brown-Lab.jpg\n",
            "[%] File Downloaded !\n",
            "\n",
            "[%] Downloading Image #13 from https://www.webstaurantstore.com/images/products/extra_large/211433/951013.jpg\n",
            "[%] File Downloaded !\n",
            "\n",
            "[%] Downloading Image #14 from http://www.handletheheat.com/wp-content/uploads/2016/02/Best-Chocolate-Cupcakes-01.jpg\n",
            "[%] File Downloaded !\n",
            "\n",
            "[%] Downloading Image #15 from http://www.lemonsforlulu.com/wp-content/uploads/2014/03/Candy-Land-Cupcakes-5.jpg\n",
            "[%] File Downloaded !\n",
            "\n",
            "[%] Downloading Image #16 from https://www.lifeloveandsugar.com/wp-content/uploads/2015/03/Moist_Chocolate_Cupcakes7.jpg\n",
            "[%] File Downloaded !\n",
            "\n",
            "[%] Downloading Image #17 from http://triedandtasty.com/wp-content/uploads/2016/05/Chocolate-Frosted-Donuts-with-Sprinkles-WM.jpg\n",
            "[%] File Downloaded !\n",
            "\n",
            "[%] Downloading Image #18 from https://media.istockphoto.com/vectors/chocolate-cake-slice-icon-cartoon-style-vector-id675045130?k=6&amp;m=675045130&amp;s=612x612&amp;w=0&amp;h=VMIcDZ0NLBKDEmpYQ9Xv1kaA1nVY1o4MDKVgP-faq10=\n",
            "[%] File Downloaded !\n",
            "\n",
            "[%] Downloading Image #19 from http://1.bp.blogspot.com/-HN5mANruf0k/TbmtZ3VvnwI/AAAAAAAAAFU/lsm3ado0d2Y/s1600/Wicked-Hot-Chocolate.jpg\n",
            "[%] File Downloaded !\n",
            "\n",
            "[%] Downloading Image #20 from http://www.marthastewart.com/sites/files/marthastewart.com/imagecache/wmax-520-highdpi/ecl/one-bowl-cake-edfw2057-1_vert.jpg\n",
            "[!] Issue getting: http://www.marthastewart.com/sites/files/marthastewart.com/imagecache/wmax-520-highdpi/ecl/one-bowl-cake-edfw2057-1_vert.jpg\n",
            "[!] Error:: HTTP Error 503: Service Unavailable\n",
            "[%] Downloading Image #20 from https://www.cookiemadness.net/wp-content/uploads/2016/04/brownsugarcupcake.jpg\n",
            "[%] File Downloaded !\n",
            "\n",
            "\n",
            "\n",
            "[!!]Indexing page: 3\n",
            "\n",
            "[%] Indexed 10 Images on Page 3.\n",
            "\n",
            "===============================================\n",
            "\n",
            "[%] Downloading Image #21 from http://www.handletheheat.com/wp-content/uploads/2016/02/Best-Chocolate-Cupcakes-01.jpg\n",
            "[%] File Downloaded !\n",
            "\n",
            "[%] Downloading Image #22 from https://www.lifeloveandsugar.com/wp-content/uploads/2015/03/Moist_Chocolate_Cupcakes7.jpg\n",
            "[%] File Downloaded !\n",
            "\n",
            "[%] Downloading Image #23 from http://www.lemonsforlulu.com/wp-content/uploads/2014/03/Candy-Land-Cupcakes-5.jpg\n",
            "[%] File Downloaded !\n",
            "\n",
            "[%] Downloading Image #24 from http://triedandtasty.com/wp-content/uploads/2016/05/Chocolate-Frosted-Donuts-with-Sprinkles-WM.jpg\n",
            "[%] File Downloaded !\n",
            "\n",
            "[%] Downloading Image #25 from https://www.webstaurantstore.com/images/products/extra_large/211433/951013.jpg\n",
            "[%] File Downloaded !\n",
            "\n",
            "[%] Downloading Image #26 from http://www.marthastewart.com/sites/files/marthastewart.com/imagecache/wmax-520-highdpi/ecl/one-bowl-cake-edfw2057-1_vert.jpg\n",
            "[!] Issue getting: http://www.marthastewart.com/sites/files/marthastewart.com/imagecache/wmax-520-highdpi/ecl/one-bowl-cake-edfw2057-1_vert.jpg\n",
            "[!] Error:: HTTP Error 503: Service Unavailable\n",
            "[%] Downloading Image #26 from https://www.mypetsname.com/wp-content/uploads/2019/12/Male-Brown-Lab.jpg\n",
            "[%] File Downloaded !\n",
            "\n",
            "[%] Downloading Image #27 from http://1.bp.blogspot.com/-HN5mANruf0k/TbmtZ3VvnwI/AAAAAAAAAFU/lsm3ado0d2Y/s1600/Wicked-Hot-Chocolate.jpg\n",
            "[%] File Downloaded !\n",
            "\n",
            "[%] Downloading Image #28 from https://www.cookiemadness.net/wp-content/uploads/2016/04/brownsugarcupcake.jpg\n",
            "[%] File Downloaded !\n",
            "\n",
            "[%] Downloading Image #29 from https://media.istockphoto.com/vectors/chocolate-cake-slice-icon-cartoon-style-vector-id675045130?k=6&amp;m=675045130&amp;s=612x612&amp;w=0&amp;h=VMIcDZ0NLBKDEmpYQ9Xv1kaA1nVY1o4MDKVgP-faq10=\n",
            "[%] File Downloaded !\n",
            "\n",
            "\n",
            "\n",
            "[!!]Indexing page: 4\n",
            "\n",
            "[%] Indexed 9 Images on Page 4.\n",
            "\n",
            "===============================================\n",
            "\n",
            "[%] Downloading Image #30 from https://www.lifeloveandsugar.com/wp-content/uploads/2015/03/Moist_Chocolate_Cupcakes7.jpg\n",
            "[%] File Downloaded !\n",
            "\n",
            "[%] Downloading Image #31 from https://media.istockphoto.com/vectors/chocolate-cake-slice-icon-cartoon-style-vector-id675045130?k=6&amp;m=675045130&amp;s=612x612&amp;w=0&amp;h=VMIcDZ0NLBKDEmpYQ9Xv1kaA1nVY1o4MDKVgP-faq10=\n",
            "[%] File Downloaded !\n",
            "\n",
            "[%] Downloading Image #32 from http://triedandtasty.com/wp-content/uploads/2016/05/Chocolate-Frosted-Donuts-with-Sprinkles-WM.jpg\n",
            "[%] File Downloaded !\n",
            "\n",
            "[%] Downloading Image #33 from http://1.bp.blogspot.com/-HN5mANruf0k/TbmtZ3VvnwI/AAAAAAAAAFU/lsm3ado0d2Y/s1600/Wicked-Hot-Chocolate.jpg\n",
            "[%] File Downloaded !\n",
            "\n",
            "[%] Downloading Image #34 from http://www.marthastewart.com/sites/files/marthastewart.com/imagecache/wmax-520-highdpi/ecl/one-bowl-cake-edfw2057-1_vert.jpg\n",
            "[!] Issue getting: http://www.marthastewart.com/sites/files/marthastewart.com/imagecache/wmax-520-highdpi/ecl/one-bowl-cake-edfw2057-1_vert.jpg\n",
            "[!] Error:: HTTP Error 503: Service Unavailable\n",
            "[%] Downloading Image #34 from https://www.cookiemadness.net/wp-content/uploads/2016/04/brownsugarcupcake.jpg\n",
            "[%] File Downloaded !\n",
            "\n",
            "[%] Downloading Image #35 from https://www.webstaurantstore.com/images/products/extra_large/211433/951013.jpg\n",
            "[%] File Downloaded !\n",
            "\n",
            "[%] Downloading Image #36 from https://www.mypetsname.com/wp-content/uploads/2019/12/Male-Brown-Lab.jpg\n",
            "[%] File Downloaded !\n",
            "\n",
            "[%] Downloading Image #37 from http://www.lemonsforlulu.com/wp-content/uploads/2014/03/Candy-Land-Cupcakes-5.jpg\n",
            "[%] File Downloaded !\n",
            "\n",
            "\n",
            "\n",
            "[!!]Indexing page: 5\n",
            "\n",
            "[%] Indexed 8 Images on Page 5.\n",
            "\n",
            "===============================================\n",
            "\n",
            "[%] Downloading Image #38 from http://triedandtasty.com/wp-content/uploads/2016/05/Chocolate-Frosted-Donuts-with-Sprinkles-WM.jpg\n",
            "[%] File Downloaded !\n",
            "\n",
            "[%] Downloading Image #39 from http://www.marthastewart.com/sites/files/marthastewart.com/imagecache/wmax-520-highdpi/ecl/one-bowl-cake-edfw2057-1_vert.jpg\n",
            "[!] Issue getting: http://www.marthastewart.com/sites/files/marthastewart.com/imagecache/wmax-520-highdpi/ecl/one-bowl-cake-edfw2057-1_vert.jpg\n",
            "[!] Error:: HTTP Error 503: Service Unavailable\n",
            "[%] Downloading Image #39 from https://www.webstaurantstore.com/images/products/extra_large/211433/951013.jpg\n",
            "[%] File Downloaded !\n",
            "\n",
            "[%] Downloading Image #40 from https://www.cookiemadness.net/wp-content/uploads/2016/04/brownsugarcupcake.jpg\n",
            "[%] File Downloaded !\n",
            "\n",
            "[%] Downloading Image #41 from https://www.mypetsname.com/wp-content/uploads/2019/12/Male-Brown-Lab.jpg\n",
            "[%] File Downloaded !\n",
            "\n",
            "[%] Downloading Image #42 from https://media.istockphoto.com/vectors/chocolate-cake-slice-icon-cartoon-style-vector-id675045130?k=6&amp;m=675045130&amp;s=612x612&amp;w=0&amp;h=VMIcDZ0NLBKDEmpYQ9Xv1kaA1nVY1o4MDKVgP-faq10=\n",
            "[%] File Downloaded !\n",
            "\n",
            "[%] Downloading Image #43 from http://www.lemonsforlulu.com/wp-content/uploads/2014/03/Candy-Land-Cupcakes-5.jpg\n",
            "[%] File Downloaded !\n",
            "\n",
            "[%] Downloading Image #44 from http://1.bp.blogspot.com/-HN5mANruf0k/TbmtZ3VvnwI/AAAAAAAAAFU/lsm3ado0d2Y/s1600/Wicked-Hot-Chocolate.jpg\n",
            "[%] File Downloaded !\n",
            "\n",
            "\n",
            "\n",
            "[!!]Indexing page: 6\n",
            "\n",
            "[%] Indexed 7 Images on Page 6.\n",
            "\n",
            "===============================================\n",
            "\n",
            "[%] Downloading Image #45 from http://www.marthastewart.com/sites/files/marthastewart.com/imagecache/wmax-520-highdpi/ecl/one-bowl-cake-edfw2057-1_vert.jpg\n",
            "[!] Issue getting: http://www.marthastewart.com/sites/files/marthastewart.com/imagecache/wmax-520-highdpi/ecl/one-bowl-cake-edfw2057-1_vert.jpg\n",
            "[!] Error:: HTTP Error 503: Service Unavailable\n",
            "[%] Downloading Image #45 from https://www.cookiemadness.net/wp-content/uploads/2016/04/brownsugarcupcake.jpg\n",
            "[%] File Downloaded !\n",
            "\n",
            "[%] Downloading Image #46 from https://www.mypetsname.com/wp-content/uploads/2019/12/Male-Brown-Lab.jpg\n",
            "[%] File Downloaded !\n",
            "\n",
            "[%] Downloading Image #47 from http://www.lemonsforlulu.com/wp-content/uploads/2014/03/Candy-Land-Cupcakes-5.jpg\n",
            "[%] File Downloaded !\n",
            "\n",
            "[%] Downloading Image #48 from https://media.istockphoto.com/vectors/chocolate-cake-slice-icon-cartoon-style-vector-id675045130?k=6&amp;m=675045130&amp;s=612x612&amp;w=0&amp;h=VMIcDZ0NLBKDEmpYQ9Xv1kaA1nVY1o4MDKVgP-faq10=\n",
            "[%] File Downloaded !\n",
            "\n",
            "[%] Downloading Image #49 from https://www.webstaurantstore.com/images/products/extra_large/211433/951013.jpg\n",
            "[%] File Downloaded !\n",
            "\n",
            "[%] Downloading Image #50 from http://1.bp.blogspot.com/-HN5mANruf0k/TbmtZ3VvnwI/AAAAAAAAAFU/lsm3ado0d2Y/s1600/Wicked-Hot-Chocolate.jpg\n",
            "[%] File Downloaded !\n",
            "\n",
            "\n",
            "\n",
            "[!!]Indexing page: 1\n",
            "\n",
            "[%] Indexed 12 Images on Page 1.\n",
            "\n",
            "===============================================\n",
            "\n",
            "[%] Downloading Image #1 from https://i.pinimg.com/736x/24/c8/98/24c8988a64952b4fe6e15cf3b3033da2.jpg\n",
            "[%] File Downloaded !\n",
            "\n",
            "[%] Downloading Image #2 from http://cdn.shopify.com/s/files/1/1556/9595/products/110827-hr_1200x1200.jpg?v=1554404228\n",
            "[%] File Downloaded !\n",
            "\n",
            "[%] Downloading Image #3 from https://wallpapers.pictures/media/ironman-background-wallpaper-background-1080x1920.jpg\n",
            "[%] File Downloaded !\n",
            "\n",
            "[%] Downloading Image #4 from https://www.hdwallpapers.in/download/cars_3_lightning_mcqueen_4k-3840x2400.jpg\n",
            "[%] File Downloaded !\n",
            "\n",
            "[%] Downloading Image #5 from https://i.pinimg.com/736x/3b/aa/59/3baa59c14fca727ba57b07ff2401a21f.jpg\n",
            "[%] File Downloaded !\n",
            "\n",
            "[%] Downloading Image #6 from http://wallpaperswide.com/download/spider_man_4-wallpaper-640x960.jpg\n",
            "[%] File Downloaded !\n",
            "\n",
            "[%] Downloading Image #7 from https://rattatattoo.com/wp-content/uploads/2012/09/A-cartoon-graffiti-tattoo-by-Jesse-Smith-of-a-character-with-a-TV-for-a-head-holding-a-chrystal-heart-wrapped-in-chains-336x547.jpg\n",
            "[%] File Downloaded !\n",
            "\n",
            "[%] Downloading Image #8 from https://www.bluecrayon.net/wp-content/uploads/2017/08/RDJ_2017-08-11_web-674x900.jpg\n",
            "[%] File Downloaded !\n",
            "\n",
            "[%] Downloading Image #9 from https://i.pinimg.com/736x/35/6b/e3/356be3ba2d97ff9ee673140e4ee4a360.jpg\n",
            "[%] File Downloaded !\n",
            "\n",
            "[%] Downloading Image #10 from https://cdn.wallpapersafari.com/46/20/1o4Ygu.jpg\n",
            "[%] File Downloaded !\n",
            "\n",
            "[%] Downloading Image #11 from http://allpicts.in/download/12034/Iron_Man_Wallpapers_for_Apple_iPhone_7_Background.jpg\n",
            "[%] File Downloaded !\n",
            "\n",
            "[%] Downloading Image #12 from https://wallpapershome.com/images/wallpapers/toy-story-4-1080x1920-poster-4k-20904.jpg\n",
            "[%] File Downloaded !\n",
            "\n",
            "\n",
            "\n",
            "[!!]Indexing page: 2\n",
            "\n",
            "[%] Indexed 12 Images on Page 2.\n",
            "\n",
            "===============================================\n",
            "\n",
            "[%] Downloading Image #13 from https://i.pinimg.com/736x/24/c8/98/24c8988a64952b4fe6e15cf3b3033da2.jpg\n",
            "[%] File Downloaded !\n",
            "\n",
            "[%] Downloading Image #14 from http://cdn.shopify.com/s/files/1/1556/9595/products/110827-hr_1200x1200.jpg?v=1554404228\n",
            "[%] File Downloaded !\n",
            "\n",
            "[%] Downloading Image #15 from https://wallpapers.pictures/media/ironman-background-wallpaper-background-1080x1920.jpg\n",
            "[%] File Downloaded !\n",
            "\n",
            "[%] Downloading Image #16 from https://www.hdwallpapers.in/download/cars_3_lightning_mcqueen_4k-3840x2400.jpg\n",
            "[%] File Downloaded !\n",
            "\n",
            "[%] Downloading Image #17 from https://i.pinimg.com/736x/3b/aa/59/3baa59c14fca727ba57b07ff2401a21f.jpg\n",
            "[%] File Downloaded !\n",
            "\n",
            "[%] Downloading Image #18 from http://wallpaperswide.com/download/spider_man_4-wallpaper-640x960.jpg\n",
            "[%] File Downloaded !\n",
            "\n",
            "[%] Downloading Image #19 from https://rattatattoo.com/wp-content/uploads/2012/09/A-cartoon-graffiti-tattoo-by-Jesse-Smith-of-a-character-with-a-TV-for-a-head-holding-a-chrystal-heart-wrapped-in-chains-336x547.jpg\n",
            "[%] File Downloaded !\n",
            "\n",
            "[%] Downloading Image #20 from https://www.bluecrayon.net/wp-content/uploads/2017/08/RDJ_2017-08-11_web-674x900.jpg\n",
            "[%] File Downloaded !\n",
            "\n",
            "[%] Downloading Image #21 from https://i.pinimg.com/736x/35/6b/e3/356be3ba2d97ff9ee673140e4ee4a360.jpg\n",
            "[%] File Downloaded !\n",
            "\n",
            "[%] Downloading Image #22 from https://cdn.wallpapersafari.com/46/20/1o4Ygu.jpg\n",
            "[%] File Downloaded !\n",
            "\n",
            "[%] Downloading Image #23 from http://allpicts.in/download/12034/Iron_Man_Wallpapers_for_Apple_iPhone_7_Background.jpg\n",
            "[%] File Downloaded !\n",
            "\n",
            "[%] Downloading Image #24 from https://wallpapershome.com/images/wallpapers/toy-story-4-1080x1920-poster-4k-20904.jpg\n",
            "[%] File Downloaded !\n",
            "\n",
            "\n",
            "\n",
            "[!!]Indexing page: 3\n",
            "\n",
            "[%] Indexed 11 Images on Page 3.\n",
            "\n",
            "===============================================\n",
            "\n",
            "[%] Downloading Image #25 from https://wallpapers.pictures/media/ironman-background-wallpaper-background-1080x1920.jpg\n",
            "[%] File Downloaded !\n",
            "\n",
            "[%] Downloading Image #26 from https://wallpapershome.com/images/wallpapers/toy-story-4-1080x1920-poster-4k-20904.jpg\n",
            "[%] File Downloaded !\n",
            "\n",
            "[%] Downloading Image #27 from http://wallpaperswide.com/download/spider_man_4-wallpaper-640x960.jpg\n",
            "[%] File Downloaded !\n",
            "\n",
            "[%] Downloading Image #28 from https://www.hdwallpapers.in/download/cars_3_lightning_mcqueen_4k-3840x2400.jpg\n",
            "[%] File Downloaded !\n",
            "\n",
            "[%] Downloading Image #29 from https://cdn.wallpapersafari.com/46/20/1o4Ygu.jpg\n",
            "[%] File Downloaded !\n",
            "\n",
            "[%] Downloading Image #30 from https://i.pinimg.com/736x/35/6b/e3/356be3ba2d97ff9ee673140e4ee4a360.jpg\n",
            "[%] File Downloaded !\n",
            "\n",
            "[%] Downloading Image #31 from https://rattatattoo.com/wp-content/uploads/2012/09/A-cartoon-graffiti-tattoo-by-Jesse-Smith-of-a-character-with-a-TV-for-a-head-holding-a-chrystal-heart-wrapped-in-chains-336x547.jpg\n",
            "[%] File Downloaded !\n",
            "\n",
            "[%] Downloading Image #32 from https://www.bluecrayon.net/wp-content/uploads/2017/08/RDJ_2017-08-11_web-674x900.jpg\n",
            "[%] File Downloaded !\n",
            "\n",
            "[%] Downloading Image #33 from http://allpicts.in/download/12034/Iron_Man_Wallpapers_for_Apple_iPhone_7_Background.jpg\n",
            "[%] File Downloaded !\n",
            "\n",
            "[%] Downloading Image #34 from https://i.pinimg.com/736x/3b/aa/59/3baa59c14fca727ba57b07ff2401a21f.jpg\n",
            "[%] File Downloaded !\n",
            "\n",
            "[%] Downloading Image #35 from http://cdn.shopify.com/s/files/1/1556/9595/products/110827-hr_1200x1200.jpg?v=1554404228\n",
            "[%] File Downloaded !\n",
            "\n",
            "\n",
            "\n",
            "[!!]Indexing page: 4\n",
            "\n",
            "[%] Indexed 10 Images on Page 4.\n",
            "\n",
            "===============================================\n",
            "\n",
            "[%] Downloading Image #36 from http://wallpaperswide.com/download/spider_man_4-wallpaper-640x960.jpg\n",
            "[%] File Downloaded !\n",
            "\n",
            "[%] Downloading Image #37 from https://i.pinimg.com/736x/35/6b/e3/356be3ba2d97ff9ee673140e4ee4a360.jpg\n",
            "[%] File Downloaded !\n",
            "\n",
            "[%] Downloading Image #38 from https://www.hdwallpapers.in/download/cars_3_lightning_mcqueen_4k-3840x2400.jpg\n",
            "[%] File Downloaded !\n",
            "\n",
            "[%] Downloading Image #39 from https://www.bluecrayon.net/wp-content/uploads/2017/08/RDJ_2017-08-11_web-674x900.jpg\n",
            "[%] File Downloaded !\n",
            "\n",
            "[%] Downloading Image #40 from http://allpicts.in/download/12034/Iron_Man_Wallpapers_for_Apple_iPhone_7_Background.jpg\n",
            "[%] File Downloaded !\n",
            "\n",
            "[%] Downloading Image #41 from https://cdn.wallpapersafari.com/46/20/1o4Ygu.jpg\n",
            "[%] File Downloaded !\n",
            "\n",
            "[%] Downloading Image #42 from http://cdn.shopify.com/s/files/1/1556/9595/products/110827-hr_1200x1200.jpg?v=1554404228\n",
            "[%] File Downloaded !\n",
            "\n",
            "[%] Downloading Image #43 from https://wallpapershome.com/images/wallpapers/toy-story-4-1080x1920-poster-4k-20904.jpg\n",
            "[%] File Downloaded !\n",
            "\n",
            "[%] Downloading Image #44 from https://rattatattoo.com/wp-content/uploads/2012/09/A-cartoon-graffiti-tattoo-by-Jesse-Smith-of-a-character-with-a-TV-for-a-head-holding-a-chrystal-heart-wrapped-in-chains-336x547.jpg\n",
            "[%] File Downloaded !\n",
            "\n",
            "[%] Downloading Image #45 from https://i.pinimg.com/736x/3b/aa/59/3baa59c14fca727ba57b07ff2401a21f.jpg\n",
            "[%] File Downloaded !\n",
            "\n",
            "\n",
            "\n",
            "[!!]Indexing page: 5\n",
            "\n",
            "[%] Indexed 9 Images on Page 5.\n",
            "\n",
            "===============================================\n",
            "\n",
            "[%] Downloading Image #46 from https://i.pinimg.com/736x/35/6b/e3/356be3ba2d97ff9ee673140e4ee4a360.jpg\n",
            "[%] File Downloaded !\n",
            "\n",
            "[%] Downloading Image #47 from https://i.pinimg.com/736x/3b/aa/59/3baa59c14fca727ba57b07ff2401a21f.jpg\n",
            "[%] File Downloaded !\n",
            "\n",
            "[%] Downloading Image #48 from http://allpicts.in/download/12034/Iron_Man_Wallpapers_for_Apple_iPhone_7_Background.jpg\n",
            "[%] File Downloaded !\n",
            "\n",
            "[%] Downloading Image #49 from https://www.bluecrayon.net/wp-content/uploads/2017/08/RDJ_2017-08-11_web-674x900.jpg\n",
            "[%] File Downloaded !\n",
            "\n",
            "[%] Downloading Image #50 from http://cdn.shopify.com/s/files/1/1556/9595/products/110827-hr_1200x1200.jpg?v=1554404228\n",
            "[%] File Downloaded !\n",
            "\n",
            "\n",
            "\n",
            "[%] Done. Downloaded 50 images.\n",
            "\n",
            "===============================================\n",
            "\n",
            "\n",
            "\n",
            "[!!]Indexing page: 1\n",
            "\n",
            "[%] Indexed 12 Images on Page 1.\n",
            "\n",
            "===============================================\n",
            "\n",
            "[%] Downloading Image #1 from http://i.ytimg.com/vi/mJ47MLlrLzw/hqdefault.jpg\n",
            "[%] File Downloaded !\n",
            "\n",
            "[%] Downloading Image #2 from http://www.laboiteverte.fr/wp-content/uploads/2014/10/takashi-murakami-smiley-12.jpg\n",
            "[%] File Downloaded !\n",
            "\n",
            "[%] Downloading Image #3 from http://immaginidivenezia.i.m.pic.centerblog.net/4532ab89.jpg\n",
            "[%] File Downloaded !\n",
            "\n",
            "[%] Downloading Image #4 from https://thumbs.dreamstime.com/z/happy-smiley-face-balls-14109932.jpg\n",
            "[%] File Downloaded !\n",
            "\n",
            "[%] Downloading Image #5 from https://www.thegreatapps.com/application/upload/Apps/2016/04/emoji-games-4-kids-free-22.jpg\n",
            "[%] File Downloaded !\n",
            "\n",
            "[%] Downloading Image #6 from https://cdn.wallpapersafari.com/14/84/NI76zD.jpg\n",
            "[%] File Downloaded !\n",
            "\n",
            "[%] Downloading Image #7 from http://www.coloriagede.com/dragonballz/dragonballz002.gif\n",
            "[%] File Downloaded !\n",
            "\n",
            "[%] Downloading Image #8 from https://thumbs.dreamstime.com/z/blue-smiley-3d-happy-face-4526732.jpg\n",
            "[%] File Downloaded !\n",
            "\n",
            "[%] Downloading Image #9 from https://www.flagshipfancydress.co.uk/ekmps/shops/flagshipenterp/images/emoji-cool-mask-mh1286--8086-p.jpg\n",
            "[%] File Downloaded !\n",
            "\n",
            "[%] Downloading Image #10 from http://vignette2.wikia.nocookie.net/manhunt/images/d/dd/Fug2-jpg.jpg/revision/latest?cb=20121126191248\n",
            "[%] File Downloaded !\n",
            "\n",
            "[%] Downloading Image #11 from https://www2.pictures.zimbio.com/bg/Gretchen+s+bikini+beach+ball+Mk7zIKVnhZex.jpg\n",
            "[%] File Downloaded !\n",
            "\n",
            "[%] Downloading Image #12 from https://banner2.kisspng.com/20180218/phe/kisspng-nba-template-basketball-uniform-jersey-jersey-template-5a89860b5efea5.6141022215189621873891.jpg\n",
            "[%] File Downloaded !\n",
            "\n",
            "\n",
            "\n",
            "[!!]Indexing page: 2\n",
            "\n",
            "[%] Indexed 12 Images on Page 2.\n",
            "\n",
            "===============================================\n",
            "\n",
            "[%] Downloading Image #13 from http://i.ytimg.com/vi/mJ47MLlrLzw/hqdefault.jpg\n",
            "[%] File Downloaded !\n",
            "\n",
            "[%] Downloading Image #14 from http://www.laboiteverte.fr/wp-content/uploads/2014/10/takashi-murakami-smiley-12.jpg\n",
            "[%] File Downloaded !\n",
            "\n",
            "[%] Downloading Image #15 from http://immaginidivenezia.i.m.pic.centerblog.net/4532ab89.jpg\n",
            "[%] File Downloaded !\n",
            "\n",
            "[%] Downloading Image #16 from https://thumbs.dreamstime.com/z/happy-smiley-face-balls-14109932.jpg\n",
            "[%] File Downloaded !\n",
            "\n",
            "[%] Downloading Image #17 from https://www.thegreatapps.com/application/upload/Apps/2016/04/emoji-games-4-kids-free-22.jpg\n",
            "[%] File Downloaded !\n",
            "\n",
            "[%] Downloading Image #18 from https://cdn.wallpapersafari.com/14/84/NI76zD.jpg\n",
            "[%] File Downloaded !\n",
            "\n",
            "[%] Downloading Image #19 from http://www.coloriagede.com/dragonballz/dragonballz002.gif\n",
            "[%] File Downloaded !\n",
            "\n",
            "[%] Downloading Image #20 from https://thumbs.dreamstime.com/z/blue-smiley-3d-happy-face-4526732.jpg\n",
            "[%] File Downloaded !\n",
            "\n",
            "[%] Downloading Image #21 from https://www.flagshipfancydress.co.uk/ekmps/shops/flagshipenterp/images/emoji-cool-mask-mh1286--8086-p.jpg\n",
            "[%] File Downloaded !\n",
            "\n",
            "[%] Downloading Image #22 from http://vignette2.wikia.nocookie.net/manhunt/images/d/dd/Fug2-jpg.jpg/revision/latest?cb=20121126191248\n",
            "[%] File Downloaded !\n",
            "\n",
            "[%] Downloading Image #23 from https://www2.pictures.zimbio.com/bg/Gretchen+s+bikini+beach+ball+Mk7zIKVnhZex.jpg\n",
            "[%] File Downloaded !\n",
            "\n",
            "[%] Downloading Image #24 from https://banner2.kisspng.com/20180218/phe/kisspng-nba-template-basketball-uniform-jersey-jersey-template-5a89860b5efea5.6141022215189621873891.jpg\n",
            "[%] File Downloaded !\n",
            "\n",
            "\n",
            "\n",
            "[!!]Indexing page: 3\n",
            "\n",
            "[%] Indexed 11 Images on Page 3.\n",
            "\n",
            "===============================================\n",
            "\n",
            "[%] Downloading Image #25 from https://thumbs.dreamstime.com/z/happy-smiley-face-balls-14109932.jpg\n",
            "[%] File Downloaded !\n",
            "\n",
            "[%] Downloading Image #26 from https://www.flagshipfancydress.co.uk/ekmps/shops/flagshipenterp/images/emoji-cool-mask-mh1286--8086-p.jpg\n",
            "[%] File Downloaded !\n",
            "\n",
            "[%] Downloading Image #27 from http://www.coloriagede.com/dragonballz/dragonballz002.gif\n",
            "[%] File Downloaded !\n",
            "\n",
            "[%] Downloading Image #28 from https://cdn.wallpapersafari.com/14/84/NI76zD.jpg\n",
            "[%] File Downloaded !\n",
            "\n",
            "[%] Downloading Image #29 from https://www.thegreatapps.com/application/upload/Apps/2016/04/emoji-games-4-kids-free-22.jpg\n",
            "[%] File Downloaded !\n",
            "\n",
            "[%] Downloading Image #30 from http://immaginidivenezia.i.m.pic.centerblog.net/4532ab89.jpg\n",
            "[%] File Downloaded !\n",
            "\n",
            "[%] Downloading Image #31 from https://thumbs.dreamstime.com/z/blue-smiley-3d-happy-face-4526732.jpg\n",
            "[%] File Downloaded !\n",
            "\n",
            "[%] Downloading Image #32 from https://www2.pictures.zimbio.com/bg/Gretchen+s+bikini+beach+ball+Mk7zIKVnhZex.jpg\n",
            "[%] File Downloaded !\n",
            "\n",
            "[%] Downloading Image #33 from http://vignette2.wikia.nocookie.net/manhunt/images/d/dd/Fug2-jpg.jpg/revision/latest?cb=20121126191248\n",
            "[%] File Downloaded !\n",
            "\n",
            "[%] Downloading Image #34 from http://www.laboiteverte.fr/wp-content/uploads/2014/10/takashi-murakami-smiley-12.jpg\n",
            "[%] File Downloaded !\n",
            "\n",
            "[%] Downloading Image #35 from https://banner2.kisspng.com/20180218/phe/kisspng-nba-template-basketball-uniform-jersey-jersey-template-5a89860b5efea5.6141022215189621873891.jpg\n",
            "[%] File Downloaded !\n",
            "\n",
            "\n",
            "\n",
            "[!!]Indexing page: 4\n",
            "\n",
            "[%] Indexed 10 Images on Page 4.\n",
            "\n",
            "===============================================\n",
            "\n",
            "[%] Downloading Image #36 from https://cdn.wallpapersafari.com/14/84/NI76zD.jpg\n",
            "[%] File Downloaded !\n",
            "\n",
            "[%] Downloading Image #37 from https://www.flagshipfancydress.co.uk/ekmps/shops/flagshipenterp/images/emoji-cool-mask-mh1286--8086-p.jpg\n",
            "[%] File Downloaded !\n",
            "\n",
            "[%] Downloading Image #38 from http://immaginidivenezia.i.m.pic.centerblog.net/4532ab89.jpg\n",
            "[%] File Downloaded !\n",
            "\n",
            "[%] Downloading Image #39 from https://thumbs.dreamstime.com/z/blue-smiley-3d-happy-face-4526732.jpg\n",
            "[%] File Downloaded !\n",
            "\n",
            "[%] Downloading Image #40 from https://www2.pictures.zimbio.com/bg/Gretchen+s+bikini+beach+ball+Mk7zIKVnhZex.jpg\n",
            "[%] File Downloaded !\n",
            "\n",
            "[%] Downloading Image #41 from http://vignette2.wikia.nocookie.net/manhunt/images/d/dd/Fug2-jpg.jpg/revision/latest?cb=20121126191248\n",
            "[%] File Downloaded !\n",
            "\n",
            "[%] Downloading Image #42 from http://www.laboiteverte.fr/wp-content/uploads/2014/10/takashi-murakami-smiley-12.jpg\n",
            "[%] File Downloaded !\n",
            "\n",
            "[%] Downloading Image #43 from https://banner2.kisspng.com/20180218/phe/kisspng-nba-template-basketball-uniform-jersey-jersey-template-5a89860b5efea5.6141022215189621873891.jpg\n",
            "[%] File Downloaded !\n",
            "\n",
            "[%] Downloading Image #44 from https://www.thegreatapps.com/application/upload/Apps/2016/04/emoji-games-4-kids-free-22.jpg\n",
            "[%] File Downloaded !\n",
            "\n",
            "[%] Downloading Image #45 from http://www.coloriagede.com/dragonballz/dragonballz002.gif\n",
            "[%] File Downloaded !\n",
            "\n",
            "\n",
            "\n",
            "[!!]Indexing page: 5\n",
            "\n",
            "[%] Indexed 9 Images on Page 5.\n",
            "\n",
            "===============================================\n",
            "\n",
            "[%] Downloading Image #46 from https://thumbs.dreamstime.com/z/blue-smiley-3d-happy-face-4526732.jpg\n",
            "[%] File Downloaded !\n",
            "\n",
            "[%] Downloading Image #47 from https://banner2.kisspng.com/20180218/phe/kisspng-nba-template-basketball-uniform-jersey-jersey-template-5a89860b5efea5.6141022215189621873891.jpg\n",
            "[%] File Downloaded !\n",
            "\n",
            "[%] Downloading Image #48 from https://www2.pictures.zimbio.com/bg/Gretchen+s+bikini+beach+ball+Mk7zIKVnhZex.jpg\n",
            "[%] File Downloaded !\n",
            "\n",
            "[%] Downloading Image #49 from http://www.laboiteverte.fr/wp-content/uploads/2014/10/takashi-murakami-smiley-12.jpg\n",
            "[%] File Downloaded !\n",
            "\n",
            "[%] Downloading Image #50 from http://www.coloriagede.com/dragonballz/dragonballz002.gif\n",
            "[%] File Downloaded !\n",
            "\n",
            "\n",
            "\n",
            "[%] Done. Downloaded 50 images.\n",
            "\n",
            "===============================================\n",
            "\n",
            "time: 1min 20s (started: 2021-03-30 15:59:49 +00:00)\n"
          ],
          "name": "stdout"
        }
      ]
    },
    {
      "cell_type": "code",
      "metadata": {
        "id": "YFwL_Ng1_JnN",
        "colab": {
          "base_uri": "https://localhost:8080/"
        },
        "outputId": "60b416e0-e961-41bc-a7b8-b9a9a74af316"
      },
      "source": [
        "#Preprocessing\n",
        "import os\n",
        "import matplotlib.pyplot as plt\n",
        "from skimage.io import imread\n",
        "from skimage.transform import resize"
      ],
      "execution_count": 6,
      "outputs": [
        {
          "output_type": "stream",
          "text": [
            "time: 1.12 s (started: 2021-03-30 16:01:09 +00:00)\n"
          ],
          "name": "stdout"
        }
      ]
    },
    {
      "cell_type": "code",
      "metadata": {
        "id": "YMKkZGviJdtk",
        "colab": {
          "base_uri": "https://localhost:8080/"
        },
        "outputId": "4b93dd53-2863-470a-b8cd-febb628377cc"
      },
      "source": [
        "target=[]\n",
        "flat_data=[]\n",
        "images=[]"
      ],
      "execution_count": 7,
      "outputs": [
        {
          "output_type": "stream",
          "text": [
            "time: 1.91 ms (started: 2021-03-30 16:01:10 +00:00)\n"
          ],
          "name": "stdout"
        }
      ]
    },
    {
      "cell_type": "code",
      "metadata": {
        "id": "hxL5xwk8KOMc",
        "colab": {
          "base_uri": "https://localhost:8080/"
        },
        "outputId": "866b3efb-b166-414b-b972-29e1fde3adbd"
      },
      "source": [
        "DATADIR='/content/Images'\n",
        "CATEGORIES=['Choclate Cupcake','Ironman Cartoon','Smiley Ball']"
      ],
      "execution_count": 8,
      "outputs": [
        {
          "output_type": "stream",
          "text": [
            "time: 1.63 ms (started: 2021-03-30 16:01:10 +00:00)\n"
          ],
          "name": "stdout"
        }
      ]
    },
    {
      "cell_type": "code",
      "metadata": {
        "id": "qSdNInprKj4e",
        "colab": {
          "base_uri": "https://localhost:8080/"
        },
        "outputId": "7244e38c-180c-499b-c1e5-85e91cf9dee2"
      },
      "source": [
        "for category in CATEGORIES:\n",
        "  print(category)"
      ],
      "execution_count": 9,
      "outputs": [
        {
          "output_type": "stream",
          "text": [
            "Choclate Cupcake\n",
            "Ironman Cartoon\n",
            "Smiley Ball\n",
            "time: 3.69 ms (started: 2021-03-30 16:01:10 +00:00)\n"
          ],
          "name": "stdout"
        }
      ]
    },
    {
      "cell_type": "code",
      "metadata": {
        "id": "xrgYUGhCK0tc",
        "colab": {
          "base_uri": "https://localhost:8080/"
        },
        "outputId": "8685834c-c35b-47a1-bffc-f8a39a937192"
      },
      "source": [
        "for category in CATEGORIES:\n",
        "  class_num = CATEGORIES.index(category)\n",
        "  print(class_num)\n",
        "  path = os.path.join(DATADIR,category)\n",
        "  print(path)\n",
        "  for img in os.listdir(path):\n",
        "    img_array = imread(os.path.join(path,img))\n",
        "    image_resized = resize(img_array,(150,150,3))\n",
        "    flat_data.append(image_resized.flatten())\n",
        "    target.append(class_num)\n",
        "    images.append(image_resized)\n",
        " \n",
        "flat_data = np.array(flat_data)\n",
        "images = np.array(images)\n",
        "target = np.array(target)"
      ],
      "execution_count": 10,
      "outputs": [
        {
          "output_type": "stream",
          "text": [
            "0\n",
            "/content/Images/Choclate Cupcake\n",
            "1\n",
            "/content/Images/Ironman Cartoon\n",
            "2\n",
            "/content/Images/Smiley Ball\n",
            "time: 49.5 s (started: 2021-03-30 16:01:10 +00:00)\n"
          ],
          "name": "stdout"
        }
      ]
    },
    {
      "cell_type": "code",
      "metadata": {
        "id": "_z2RECpIm8MT",
        "colab": {
          "base_uri": "https://localhost:8080/",
          "height": 270
        },
        "outputId": "6e235429-34fb-45e2-ab7f-3ee68d09807f"
      },
      "source": [
        "df = pd.DataFrame(flat_data)\n",
        "df['Target'] = target\n",
        "df.head()"
      ],
      "execution_count": 11,
      "outputs": [
        {
          "output_type": "execute_result",
          "data": {
            "text/html": [
              "<div>\n",
              "<style scoped>\n",
              "    .dataframe tbody tr th:only-of-type {\n",
              "        vertical-align: middle;\n",
              "    }\n",
              "\n",
              "    .dataframe tbody tr th {\n",
              "        vertical-align: top;\n",
              "    }\n",
              "\n",
              "    .dataframe thead th {\n",
              "        text-align: right;\n",
              "    }\n",
              "</style>\n",
              "<table border=\"1\" class=\"dataframe\">\n",
              "  <thead>\n",
              "    <tr style=\"text-align: right;\">\n",
              "      <th></th>\n",
              "      <th>0</th>\n",
              "      <th>1</th>\n",
              "      <th>2</th>\n",
              "      <th>3</th>\n",
              "      <th>4</th>\n",
              "      <th>5</th>\n",
              "      <th>6</th>\n",
              "      <th>7</th>\n",
              "      <th>8</th>\n",
              "      <th>9</th>\n",
              "      <th>10</th>\n",
              "      <th>11</th>\n",
              "      <th>12</th>\n",
              "      <th>13</th>\n",
              "      <th>14</th>\n",
              "      <th>15</th>\n",
              "      <th>16</th>\n",
              "      <th>17</th>\n",
              "      <th>18</th>\n",
              "      <th>19</th>\n",
              "      <th>20</th>\n",
              "      <th>21</th>\n",
              "      <th>22</th>\n",
              "      <th>23</th>\n",
              "      <th>24</th>\n",
              "      <th>25</th>\n",
              "      <th>26</th>\n",
              "      <th>27</th>\n",
              "      <th>28</th>\n",
              "      <th>29</th>\n",
              "      <th>30</th>\n",
              "      <th>31</th>\n",
              "      <th>32</th>\n",
              "      <th>33</th>\n",
              "      <th>34</th>\n",
              "      <th>35</th>\n",
              "      <th>36</th>\n",
              "      <th>37</th>\n",
              "      <th>38</th>\n",
              "      <th>39</th>\n",
              "      <th>...</th>\n",
              "      <th>67461</th>\n",
              "      <th>67462</th>\n",
              "      <th>67463</th>\n",
              "      <th>67464</th>\n",
              "      <th>67465</th>\n",
              "      <th>67466</th>\n",
              "      <th>67467</th>\n",
              "      <th>67468</th>\n",
              "      <th>67469</th>\n",
              "      <th>67470</th>\n",
              "      <th>67471</th>\n",
              "      <th>67472</th>\n",
              "      <th>67473</th>\n",
              "      <th>67474</th>\n",
              "      <th>67475</th>\n",
              "      <th>67476</th>\n",
              "      <th>67477</th>\n",
              "      <th>67478</th>\n",
              "      <th>67479</th>\n",
              "      <th>67480</th>\n",
              "      <th>67481</th>\n",
              "      <th>67482</th>\n",
              "      <th>67483</th>\n",
              "      <th>67484</th>\n",
              "      <th>67485</th>\n",
              "      <th>67486</th>\n",
              "      <th>67487</th>\n",
              "      <th>67488</th>\n",
              "      <th>67489</th>\n",
              "      <th>67490</th>\n",
              "      <th>67491</th>\n",
              "      <th>67492</th>\n",
              "      <th>67493</th>\n",
              "      <th>67494</th>\n",
              "      <th>67495</th>\n",
              "      <th>67496</th>\n",
              "      <th>67497</th>\n",
              "      <th>67498</th>\n",
              "      <th>67499</th>\n",
              "      <th>Target</th>\n",
              "    </tr>\n",
              "  </thead>\n",
              "  <tbody>\n",
              "    <tr>\n",
              "      <th>0</th>\n",
              "      <td>0.996078</td>\n",
              "      <td>0.996078</td>\n",
              "      <td>0.996078</td>\n",
              "      <td>0.996078</td>\n",
              "      <td>0.996078</td>\n",
              "      <td>0.996078</td>\n",
              "      <td>0.996078</td>\n",
              "      <td>0.996078</td>\n",
              "      <td>0.996078</td>\n",
              "      <td>0.996078</td>\n",
              "      <td>0.996078</td>\n",
              "      <td>0.996078</td>\n",
              "      <td>0.996078</td>\n",
              "      <td>0.996078</td>\n",
              "      <td>0.996078</td>\n",
              "      <td>0.996078</td>\n",
              "      <td>0.996078</td>\n",
              "      <td>0.996078</td>\n",
              "      <td>0.996078</td>\n",
              "      <td>0.996078</td>\n",
              "      <td>0.996078</td>\n",
              "      <td>0.996078</td>\n",
              "      <td>0.996078</td>\n",
              "      <td>0.996078</td>\n",
              "      <td>0.996078</td>\n",
              "      <td>0.996078</td>\n",
              "      <td>0.996078</td>\n",
              "      <td>0.996078</td>\n",
              "      <td>0.996078</td>\n",
              "      <td>0.996078</td>\n",
              "      <td>0.996078</td>\n",
              "      <td>0.996078</td>\n",
              "      <td>0.996078</td>\n",
              "      <td>0.996078</td>\n",
              "      <td>0.996078</td>\n",
              "      <td>0.996078</td>\n",
              "      <td>0.996078</td>\n",
              "      <td>0.996078</td>\n",
              "      <td>0.996078</td>\n",
              "      <td>0.996078</td>\n",
              "      <td>...</td>\n",
              "      <td>0.996078</td>\n",
              "      <td>0.996078</td>\n",
              "      <td>0.996078</td>\n",
              "      <td>0.996078</td>\n",
              "      <td>0.996078</td>\n",
              "      <td>0.996078</td>\n",
              "      <td>0.996078</td>\n",
              "      <td>0.996078</td>\n",
              "      <td>0.996078</td>\n",
              "      <td>0.996078</td>\n",
              "      <td>0.996078</td>\n",
              "      <td>0.996078</td>\n",
              "      <td>0.996078</td>\n",
              "      <td>0.996078</td>\n",
              "      <td>0.996078</td>\n",
              "      <td>0.996078</td>\n",
              "      <td>0.996078</td>\n",
              "      <td>0.996078</td>\n",
              "      <td>0.996078</td>\n",
              "      <td>0.996078</td>\n",
              "      <td>0.996078</td>\n",
              "      <td>0.996078</td>\n",
              "      <td>0.996078</td>\n",
              "      <td>0.996078</td>\n",
              "      <td>0.996078</td>\n",
              "      <td>0.996078</td>\n",
              "      <td>0.996078</td>\n",
              "      <td>0.996078</td>\n",
              "      <td>0.996078</td>\n",
              "      <td>0.996078</td>\n",
              "      <td>0.996078</td>\n",
              "      <td>0.996078</td>\n",
              "      <td>0.996078</td>\n",
              "      <td>0.996078</td>\n",
              "      <td>0.996078</td>\n",
              "      <td>0.996078</td>\n",
              "      <td>0.996078</td>\n",
              "      <td>0.996078</td>\n",
              "      <td>0.996078</td>\n",
              "      <td>0</td>\n",
              "    </tr>\n",
              "    <tr>\n",
              "      <th>1</th>\n",
              "      <td>0.772549</td>\n",
              "      <td>0.882353</td>\n",
              "      <td>0.792157</td>\n",
              "      <td>0.772549</td>\n",
              "      <td>0.882353</td>\n",
              "      <td>0.792157</td>\n",
              "      <td>0.768627</td>\n",
              "      <td>0.882353</td>\n",
              "      <td>0.792157</td>\n",
              "      <td>0.764706</td>\n",
              "      <td>0.882353</td>\n",
              "      <td>0.792157</td>\n",
              "      <td>0.760784</td>\n",
              "      <td>0.882353</td>\n",
              "      <td>0.788235</td>\n",
              "      <td>0.756863</td>\n",
              "      <td>0.882353</td>\n",
              "      <td>0.788235</td>\n",
              "      <td>0.754902</td>\n",
              "      <td>0.880392</td>\n",
              "      <td>0.786275</td>\n",
              "      <td>0.752941</td>\n",
              "      <td>0.878431</td>\n",
              "      <td>0.784314</td>\n",
              "      <td>0.750980</td>\n",
              "      <td>0.876471</td>\n",
              "      <td>0.782353</td>\n",
              "      <td>0.749020</td>\n",
              "      <td>0.874510</td>\n",
              "      <td>0.780392</td>\n",
              "      <td>0.747059</td>\n",
              "      <td>0.874510</td>\n",
              "      <td>0.780392</td>\n",
              "      <td>0.745098</td>\n",
              "      <td>0.872549</td>\n",
              "      <td>0.778431</td>\n",
              "      <td>0.745098</td>\n",
              "      <td>0.870588</td>\n",
              "      <td>0.776471</td>\n",
              "      <td>0.743137</td>\n",
              "      <td>...</td>\n",
              "      <td>0.815686</td>\n",
              "      <td>0.835294</td>\n",
              "      <td>0.811765</td>\n",
              "      <td>0.815686</td>\n",
              "      <td>0.835294</td>\n",
              "      <td>0.815686</td>\n",
              "      <td>0.819608</td>\n",
              "      <td>0.839216</td>\n",
              "      <td>0.819608</td>\n",
              "      <td>0.819608</td>\n",
              "      <td>0.839216</td>\n",
              "      <td>0.819608</td>\n",
              "      <td>0.823529</td>\n",
              "      <td>0.843137</td>\n",
              "      <td>0.819608</td>\n",
              "      <td>0.823529</td>\n",
              "      <td>0.843137</td>\n",
              "      <td>0.819608</td>\n",
              "      <td>0.823529</td>\n",
              "      <td>0.843137</td>\n",
              "      <td>0.819608</td>\n",
              "      <td>0.823529</td>\n",
              "      <td>0.843137</td>\n",
              "      <td>0.819608</td>\n",
              "      <td>0.823529</td>\n",
              "      <td>0.843137</td>\n",
              "      <td>0.819608</td>\n",
              "      <td>0.827451</td>\n",
              "      <td>0.847059</td>\n",
              "      <td>0.823529</td>\n",
              "      <td>0.827451</td>\n",
              "      <td>0.847059</td>\n",
              "      <td>0.823529</td>\n",
              "      <td>0.827451</td>\n",
              "      <td>0.847059</td>\n",
              "      <td>0.823529</td>\n",
              "      <td>0.827451</td>\n",
              "      <td>0.847059</td>\n",
              "      <td>0.823529</td>\n",
              "      <td>0</td>\n",
              "    </tr>\n",
              "    <tr>\n",
              "      <th>2</th>\n",
              "      <td>0.772549</td>\n",
              "      <td>0.882353</td>\n",
              "      <td>0.792157</td>\n",
              "      <td>0.772549</td>\n",
              "      <td>0.882353</td>\n",
              "      <td>0.792157</td>\n",
              "      <td>0.768627</td>\n",
              "      <td>0.882353</td>\n",
              "      <td>0.792157</td>\n",
              "      <td>0.764706</td>\n",
              "      <td>0.882353</td>\n",
              "      <td>0.792157</td>\n",
              "      <td>0.760784</td>\n",
              "      <td>0.882353</td>\n",
              "      <td>0.788235</td>\n",
              "      <td>0.756863</td>\n",
              "      <td>0.882353</td>\n",
              "      <td>0.788235</td>\n",
              "      <td>0.754902</td>\n",
              "      <td>0.880392</td>\n",
              "      <td>0.786275</td>\n",
              "      <td>0.752941</td>\n",
              "      <td>0.878431</td>\n",
              "      <td>0.784314</td>\n",
              "      <td>0.750980</td>\n",
              "      <td>0.876471</td>\n",
              "      <td>0.782353</td>\n",
              "      <td>0.749020</td>\n",
              "      <td>0.874510</td>\n",
              "      <td>0.780392</td>\n",
              "      <td>0.747059</td>\n",
              "      <td>0.874510</td>\n",
              "      <td>0.780392</td>\n",
              "      <td>0.745098</td>\n",
              "      <td>0.872549</td>\n",
              "      <td>0.778431</td>\n",
              "      <td>0.745098</td>\n",
              "      <td>0.870588</td>\n",
              "      <td>0.776471</td>\n",
              "      <td>0.743137</td>\n",
              "      <td>...</td>\n",
              "      <td>0.815686</td>\n",
              "      <td>0.835294</td>\n",
              "      <td>0.811765</td>\n",
              "      <td>0.815686</td>\n",
              "      <td>0.835294</td>\n",
              "      <td>0.815686</td>\n",
              "      <td>0.819608</td>\n",
              "      <td>0.839216</td>\n",
              "      <td>0.819608</td>\n",
              "      <td>0.819608</td>\n",
              "      <td>0.839216</td>\n",
              "      <td>0.819608</td>\n",
              "      <td>0.823529</td>\n",
              "      <td>0.843137</td>\n",
              "      <td>0.819608</td>\n",
              "      <td>0.823529</td>\n",
              "      <td>0.843137</td>\n",
              "      <td>0.819608</td>\n",
              "      <td>0.823529</td>\n",
              "      <td>0.843137</td>\n",
              "      <td>0.819608</td>\n",
              "      <td>0.823529</td>\n",
              "      <td>0.843137</td>\n",
              "      <td>0.819608</td>\n",
              "      <td>0.823529</td>\n",
              "      <td>0.843137</td>\n",
              "      <td>0.819608</td>\n",
              "      <td>0.827451</td>\n",
              "      <td>0.847059</td>\n",
              "      <td>0.823529</td>\n",
              "      <td>0.827451</td>\n",
              "      <td>0.847059</td>\n",
              "      <td>0.823529</td>\n",
              "      <td>0.827451</td>\n",
              "      <td>0.847059</td>\n",
              "      <td>0.823529</td>\n",
              "      <td>0.827451</td>\n",
              "      <td>0.847059</td>\n",
              "      <td>0.823529</td>\n",
              "      <td>0</td>\n",
              "    </tr>\n",
              "    <tr>\n",
              "      <th>3</th>\n",
              "      <td>0.894118</td>\n",
              "      <td>0.909804</td>\n",
              "      <td>0.905882</td>\n",
              "      <td>0.894118</td>\n",
              "      <td>0.909804</td>\n",
              "      <td>0.905882</td>\n",
              "      <td>0.898039</td>\n",
              "      <td>0.913725</td>\n",
              "      <td>0.909804</td>\n",
              "      <td>0.901961</td>\n",
              "      <td>0.917647</td>\n",
              "      <td>0.913725</td>\n",
              "      <td>0.899020</td>\n",
              "      <td>0.914706</td>\n",
              "      <td>0.910784</td>\n",
              "      <td>0.896078</td>\n",
              "      <td>0.911765</td>\n",
              "      <td>0.907843</td>\n",
              "      <td>0.901961</td>\n",
              "      <td>0.917647</td>\n",
              "      <td>0.913725</td>\n",
              "      <td>0.901961</td>\n",
              "      <td>0.917647</td>\n",
              "      <td>0.913725</td>\n",
              "      <td>0.905882</td>\n",
              "      <td>0.917647</td>\n",
              "      <td>0.917647</td>\n",
              "      <td>0.901961</td>\n",
              "      <td>0.917647</td>\n",
              "      <td>0.913725</td>\n",
              "      <td>0.901961</td>\n",
              "      <td>0.917647</td>\n",
              "      <td>0.913725</td>\n",
              "      <td>0.901961</td>\n",
              "      <td>0.917647</td>\n",
              "      <td>0.913725</td>\n",
              "      <td>0.901961</td>\n",
              "      <td>0.917647</td>\n",
              "      <td>0.913725</td>\n",
              "      <td>0.901961</td>\n",
              "      <td>...</td>\n",
              "      <td>0.776471</td>\n",
              "      <td>0.800000</td>\n",
              "      <td>0.792157</td>\n",
              "      <td>0.776471</td>\n",
              "      <td>0.800000</td>\n",
              "      <td>0.792157</td>\n",
              "      <td>0.774510</td>\n",
              "      <td>0.798039</td>\n",
              "      <td>0.790196</td>\n",
              "      <td>0.776471</td>\n",
              "      <td>0.800000</td>\n",
              "      <td>0.792157</td>\n",
              "      <td>0.780065</td>\n",
              "      <td>0.803595</td>\n",
              "      <td>0.795752</td>\n",
              "      <td>0.779412</td>\n",
              "      <td>0.802941</td>\n",
              "      <td>0.795098</td>\n",
              "      <td>0.776471</td>\n",
              "      <td>0.800000</td>\n",
              "      <td>0.792157</td>\n",
              "      <td>0.775817</td>\n",
              "      <td>0.799346</td>\n",
              "      <td>0.791503</td>\n",
              "      <td>0.765686</td>\n",
              "      <td>0.789216</td>\n",
              "      <td>0.781373</td>\n",
              "      <td>0.771895</td>\n",
              "      <td>0.795425</td>\n",
              "      <td>0.787582</td>\n",
              "      <td>0.772876</td>\n",
              "      <td>0.796405</td>\n",
              "      <td>0.788562</td>\n",
              "      <td>0.773529</td>\n",
              "      <td>0.797059</td>\n",
              "      <td>0.789216</td>\n",
              "      <td>0.772549</td>\n",
              "      <td>0.796078</td>\n",
              "      <td>0.788235</td>\n",
              "      <td>0</td>\n",
              "    </tr>\n",
              "    <tr>\n",
              "      <th>4</th>\n",
              "      <td>0.874510</td>\n",
              "      <td>0.898039</td>\n",
              "      <td>0.945098</td>\n",
              "      <td>0.874510</td>\n",
              "      <td>0.901961</td>\n",
              "      <td>0.945098</td>\n",
              "      <td>0.878431</td>\n",
              "      <td>0.905882</td>\n",
              "      <td>0.945098</td>\n",
              "      <td>0.886275</td>\n",
              "      <td>0.913725</td>\n",
              "      <td>0.947059</td>\n",
              "      <td>0.889216</td>\n",
              "      <td>0.916667</td>\n",
              "      <td>0.954902</td>\n",
              "      <td>0.891176</td>\n",
              "      <td>0.918627</td>\n",
              "      <td>0.957843</td>\n",
              "      <td>0.892157</td>\n",
              "      <td>0.919608</td>\n",
              "      <td>0.958824</td>\n",
              "      <td>0.894118</td>\n",
              "      <td>0.921569</td>\n",
              "      <td>0.960784</td>\n",
              "      <td>0.890196</td>\n",
              "      <td>0.917647</td>\n",
              "      <td>0.956863</td>\n",
              "      <td>0.890196</td>\n",
              "      <td>0.917647</td>\n",
              "      <td>0.956863</td>\n",
              "      <td>0.890196</td>\n",
              "      <td>0.917647</td>\n",
              "      <td>0.956863</td>\n",
              "      <td>0.890196</td>\n",
              "      <td>0.917647</td>\n",
              "      <td>0.956863</td>\n",
              "      <td>0.890196</td>\n",
              "      <td>0.921569</td>\n",
              "      <td>0.958824</td>\n",
              "      <td>0.896078</td>\n",
              "      <td>...</td>\n",
              "      <td>0.901961</td>\n",
              "      <td>0.941176</td>\n",
              "      <td>0.994118</td>\n",
              "      <td>0.901961</td>\n",
              "      <td>0.945098</td>\n",
              "      <td>0.996078</td>\n",
              "      <td>0.905882</td>\n",
              "      <td>0.945098</td>\n",
              "      <td>0.996078</td>\n",
              "      <td>0.905882</td>\n",
              "      <td>0.949020</td>\n",
              "      <td>0.996078</td>\n",
              "      <td>0.907843</td>\n",
              "      <td>0.949020</td>\n",
              "      <td>0.996078</td>\n",
              "      <td>0.909804</td>\n",
              "      <td>0.949020</td>\n",
              "      <td>0.996078</td>\n",
              "      <td>0.909804</td>\n",
              "      <td>0.949020</td>\n",
              "      <td>0.996078</td>\n",
              "      <td>0.909804</td>\n",
              "      <td>0.947059</td>\n",
              "      <td>0.995098</td>\n",
              "      <td>0.911765</td>\n",
              "      <td>0.945098</td>\n",
              "      <td>0.994118</td>\n",
              "      <td>0.913725</td>\n",
              "      <td>0.945098</td>\n",
              "      <td>0.994118</td>\n",
              "      <td>0.909804</td>\n",
              "      <td>0.945098</td>\n",
              "      <td>0.992157</td>\n",
              "      <td>0.900980</td>\n",
              "      <td>0.933333</td>\n",
              "      <td>0.990196</td>\n",
              "      <td>0.876471</td>\n",
              "      <td>0.908824</td>\n",
              "      <td>0.970588</td>\n",
              "      <td>0</td>\n",
              "    </tr>\n",
              "  </tbody>\n",
              "</table>\n",
              "<p>5 rows × 67501 columns</p>\n",
              "</div>"
            ],
            "text/plain": [
              "          0         1         2         3  ...     67497     67498     67499  Target\n",
              "0  0.996078  0.996078  0.996078  0.996078  ...  0.996078  0.996078  0.996078       0\n",
              "1  0.772549  0.882353  0.792157  0.772549  ...  0.827451  0.847059  0.823529       0\n",
              "2  0.772549  0.882353  0.792157  0.772549  ...  0.827451  0.847059  0.823529       0\n",
              "3  0.894118  0.909804  0.905882  0.894118  ...  0.772549  0.796078  0.788235       0\n",
              "4  0.874510  0.898039  0.945098  0.874510  ...  0.876471  0.908824  0.970588       0\n",
              "\n",
              "[5 rows x 67501 columns]"
            ]
          },
          "metadata": {
            "tags": []
          },
          "execution_count": 11
        },
        {
          "output_type": "stream",
          "text": [
            "time: 157 ms (started: 2021-03-30 16:02:00 +00:00)\n"
          ],
          "name": "stdout"
        }
      ]
    },
    {
      "cell_type": "code",
      "metadata": {
        "id": "en6k8sQsvxX8",
        "colab": {
          "base_uri": "https://localhost:8080/"
        },
        "outputId": "f066ec98-7dec-4ebb-c960-9ebead1f6289"
      },
      "source": [
        "target"
      ],
      "execution_count": 12,
      "outputs": [
        {
          "output_type": "execute_result",
          "data": {
            "text/plain": [
              "array([0, 0, 0, 0, 0, 0, 0, 0, 0, 0, 0, 0, 0, 0, 0, 0, 0, 0, 0, 0, 0, 0,\n",
              "       0, 0, 0, 0, 0, 0, 0, 0, 0, 0, 0, 0, 0, 0, 0, 0, 0, 0, 0, 0, 0, 0,\n",
              "       0, 0, 0, 0, 0, 0, 1, 1, 1, 1, 1, 1, 1, 1, 1, 1, 1, 1, 1, 1, 1, 1,\n",
              "       1, 1, 1, 1, 1, 1, 1, 1, 1, 1, 1, 1, 1, 1, 1, 1, 1, 1, 1, 1, 1, 1,\n",
              "       1, 1, 1, 1, 1, 1, 1, 1, 1, 1, 1, 1, 2, 2, 2, 2, 2, 2, 2, 2, 2, 2,\n",
              "       2, 2, 2, 2, 2, 2, 2, 2, 2, 2, 2, 2, 2, 2, 2, 2, 2, 2, 2, 2, 2, 2,\n",
              "       2, 2, 2, 2, 2, 2, 2, 2, 2, 2, 2, 2, 2, 2, 2, 2, 2, 2])"
            ]
          },
          "metadata": {
            "tags": []
          },
          "execution_count": 12
        },
        {
          "output_type": "stream",
          "text": [
            "time: 6.03 ms (started: 2021-03-30 16:02:00 +00:00)\n"
          ],
          "name": "stdout"
        }
      ]
    },
    {
      "cell_type": "code",
      "metadata": {
        "id": "5yxMhK_U6XjJ",
        "colab": {
          "base_uri": "https://localhost:8080/"
        },
        "outputId": "6aa01a11-658d-42b2-d4cf-87ce411ae8dc"
      },
      "source": [
        "# Spliting  the data into training data and tesing data\n",
        "from sklearn.model_selection import train_test_split\n",
        "x_train, x_test, y_train, y_test = train_test_split (flat_data, target, test_size=0.3, random_state=0, stratify=target)\n"
      ],
      "execution_count": 13,
      "outputs": [
        {
          "output_type": "stream",
          "text": [
            "time: 240 ms (started: 2021-03-30 16:02:00 +00:00)\n"
          ],
          "name": "stdout"
        }
      ]
    },
    {
      "cell_type": "code",
      "metadata": {
        "id": "6jvyoZhzjWxb",
        "colab": {
          "base_uri": "https://localhost:8080/"
        },
        "outputId": "2f08093a-dec2-43f2-8f47-5ece0cd734eb"
      },
      "source": [
        "#SVM Classifier \n",
        "from sklearn.model_selection import GridSearchCV\n",
        "from sklearn import svm\n",
        "param_grid=[{'C':[0.1,1,10,100,1000],'kernel':['linear']},{'C':[0.1,1,10,100,1000],'gamma':[0.001,0.0001],'kernel':['rbf']}]\n",
        "\n",
        "svc_model = svm.SVC(probability =True)\n",
        "\n",
        "grid_clf = GridSearchCV (svc_model,param_grid,cv=5,refit=True)\n",
        "grid_clf.fit (x_train, y_train)"
      ],
      "execution_count": 14,
      "outputs": [
        {
          "output_type": "execute_result",
          "data": {
            "text/plain": [
              "GridSearchCV(cv=5, error_score=nan,\n",
              "             estimator=SVC(C=1.0, break_ties=False, cache_size=200,\n",
              "                           class_weight=None, coef0=0.0,\n",
              "                           decision_function_shape='ovr', degree=3,\n",
              "                           gamma='scale', kernel='rbf', max_iter=-1,\n",
              "                           probability=True, random_state=None, shrinking=True,\n",
              "                           tol=0.001, verbose=False),\n",
              "             iid='deprecated', n_jobs=None,\n",
              "             param_grid=[{'C': [0.1, 1, 10, 100, 1000], 'kernel': ['linear']},\n",
              "                         {'C': [0.1, 1, 10, 100, 1000],\n",
              "                          'gamma': [0.001, 0.0001], 'kernel': ['rbf']}],\n",
              "             pre_dispatch='2*n_jobs', refit=True, return_train_score=False,\n",
              "             scoring=None, verbose=0)"
            ]
          },
          "metadata": {
            "tags": []
          },
          "execution_count": 14
        },
        {
          "output_type": "stream",
          "text": [
            "time: 4min 4s (started: 2021-03-30 16:02:00 +00:00)\n"
          ],
          "name": "stdout"
        }
      ]
    },
    {
      "cell_type": "code",
      "metadata": {
        "id": "a2UrUFONmCiV",
        "colab": {
          "base_uri": "https://localhost:8080/"
        },
        "outputId": "9e9c8eb6-c292-4612-e372-712098e62bae"
      },
      "source": [
        "y_pred = grid_clf.predict(x_test)\n",
        "y_pred"
      ],
      "execution_count": 15,
      "outputs": [
        {
          "output_type": "execute_result",
          "data": {
            "text/plain": [
              "array([2, 2, 0, 0, 1, 0, 1, 2, 0, 1, 0, 2, 0, 2, 1, 2, 1, 1, 2, 0, 1, 2,\n",
              "       0, 1, 2, 2, 2, 2, 1, 2, 1, 0, 0, 2, 1, 2, 1, 0, 0, 1, 0, 2, 0, 0,\n",
              "       2])"
            ]
          },
          "metadata": {
            "tags": []
          },
          "execution_count": 15
        },
        {
          "output_type": "stream",
          "text": [
            "time: 189 ms (started: 2021-03-30 16:06:04 +00:00)\n"
          ],
          "name": "stdout"
        }
      ]
    },
    {
      "cell_type": "code",
      "metadata": {
        "id": "via3zCJ62NHF",
        "colab": {
          "base_uri": "https://localhost:8080/"
        },
        "outputId": "e3815649-e8d2-45be-fde8-ca82950e8c7f"
      },
      "source": [
        "y_test"
      ],
      "execution_count": 16,
      "outputs": [
        {
          "output_type": "execute_result",
          "data": {
            "text/plain": [
              "array([2, 2, 0, 0, 1, 0, 1, 2, 0, 1, 0, 2, 0, 2, 1, 2, 1, 1, 1, 0, 1, 2,\n",
              "       0, 1, 2, 2, 2, 2, 1, 2, 1, 0, 0, 1, 1, 2, 1, 0, 0, 1, 0, 2, 0, 0,\n",
              "       2])"
            ]
          },
          "metadata": {
            "tags": []
          },
          "execution_count": 16
        },
        {
          "output_type": "stream",
          "text": [
            "time: 5.84 ms (started: 2021-03-30 16:06:05 +00:00)\n"
          ],
          "name": "stdout"
        }
      ]
    },
    {
      "cell_type": "code",
      "metadata": {
        "id": "rcVlAWth4r1i",
        "colab": {
          "base_uri": "https://localhost:8080/"
        },
        "outputId": "38ad14a3-a608-418f-b250-6875d434d020"
      },
      "source": [
        "from sklearn.metrics import accuracy_score,confusion_matrix,classification_report\n"
      ],
      "execution_count": 17,
      "outputs": [
        {
          "output_type": "stream",
          "text": [
            "time: 1.43 ms (started: 2021-03-30 16:06:05 +00:00)\n"
          ],
          "name": "stdout"
        }
      ]
    },
    {
      "cell_type": "code",
      "metadata": {
        "id": "3GFldCkgRJgc",
        "colab": {
          "base_uri": "https://localhost:8080/"
        },
        "outputId": "0c31823e-0048-4f52-fb12-00a7680a464d"
      },
      "source": [
        "print(accuracy_score(y_pred,y_test))"
      ],
      "execution_count": 18,
      "outputs": [
        {
          "output_type": "stream",
          "text": [
            "0.9555555555555556\n",
            "time: 1.56 ms (started: 2021-03-30 16:06:05 +00:00)\n"
          ],
          "name": "stdout"
        }
      ]
    },
    {
      "cell_type": "code",
      "metadata": {
        "id": "vHRTobDqRgc9",
        "colab": {
          "base_uri": "https://localhost:8080/"
        },
        "outputId": "bcdc93fb-abff-458c-b8b5-6a1f26c7d20e"
      },
      "source": [
        "confusion_matrix(y_pred,y_test)"
      ],
      "execution_count": 19,
      "outputs": [
        {
          "output_type": "execute_result",
          "data": {
            "text/plain": [
              "array([[15,  0,  0],\n",
              "       [ 0, 13,  0],\n",
              "       [ 0,  2, 15]])"
            ]
          },
          "metadata": {
            "tags": []
          },
          "execution_count": 19
        },
        {
          "output_type": "stream",
          "text": [
            "time: 7.6 ms (started: 2021-03-30 16:06:05 +00:00)\n"
          ],
          "name": "stdout"
        }
      ]
    },
    {
      "cell_type": "code",
      "metadata": {
        "id": "EX9yvqIqR2mr",
        "colab": {
          "base_uri": "https://localhost:8080/"
        },
        "outputId": "da6f6c78-5106-49cb-a159-b5659f60f631"
      },
      "source": [
        "print(classification_report(y_pred,y_test))"
      ],
      "execution_count": 20,
      "outputs": [
        {
          "output_type": "stream",
          "text": [
            "              precision    recall  f1-score   support\n",
            "\n",
            "           0       1.00      1.00      1.00        15\n",
            "           1       0.87      1.00      0.93        13\n",
            "           2       1.00      0.88      0.94        17\n",
            "\n",
            "    accuracy                           0.96        45\n",
            "   macro avg       0.96      0.96      0.96        45\n",
            "weighted avg       0.96      0.96      0.96        45\n",
            "\n",
            "time: 13.6 ms (started: 2021-03-30 16:06:05 +00:00)\n"
          ],
          "name": "stdout"
        }
      ]
    },
    {
      "cell_type": "code",
      "metadata": {
        "id": "_TWMGITbR-2E",
        "colab": {
          "base_uri": "https://localhost:8080/"
        },
        "outputId": "ab4bee65-3a37-4b09-8dfb-ea694d7f603e"
      },
      "source": [
        "import pickle \n",
        "pickle.dump(grid_clf,open('model.p','wb'))"
      ],
      "execution_count": 21,
      "outputs": [
        {
          "output_type": "stream",
          "text": [
            "time: 37.9 ms (started: 2021-03-30 16:06:05 +00:00)\n"
          ],
          "name": "stdout"
        }
      ]
    },
    {
      "cell_type": "code",
      "metadata": {
        "id": "3x0gYxGRSaI5",
        "colab": {
          "base_uri": "https://localhost:8080/"
        },
        "outputId": "6204d972-3d2a-4f2f-e590-134648433872"
      },
      "source": [
        "final_model = pickle.load(open('model.p','rb'))"
      ],
      "execution_count": 22,
      "outputs": [
        {
          "output_type": "stream",
          "text": [
            "time: 16 ms (started: 2021-03-30 16:06:05 +00:00)\n"
          ],
          "name": "stdout"
        }
      ]
    },
    {
      "cell_type": "code",
      "metadata": {
        "id": "Hkes-GdtSyw5",
        "colab": {
          "base_uri": "https://localhost:8080/",
          "height": 340
        },
        "outputId": "6dc4c359-f5d4-4dca-c98a-8c8b6bbb4d15"
      },
      "source": [
        "flat_test_data =[]                                           \n",
        "url = input('Enter your URL')\n",
        "img_test =imread(url)\n",
        "image_test_resized = resize(img_test,(150,150,3))\n",
        "flat_test_data.append(image_test_resized.flatten())\n",
        "flat_test_data = np.array(flat_test_data)\n",
        "plt.imshow(image_test_resized)\n",
        "y_out = final_model.predict(flat_test_data)\n",
        "y_out = CATEGORIES[y_out[0]]\n",
        "print(f'PREDICTED OUTPUT:{y_out}')"
      ],
      "execution_count": 23,
      "outputs": [
        {
          "output_type": "stream",
          "text": [
            "Enter your URLhttps://upload.wikimedia.org/wikipedia/commons/thumb/f/fb/Chocolate_Cupcakes.jpg/1024px-Chocolate_Cupcakes.jpg\n",
            "PREDICTED OUTPUT:Choclate Cupcake\n"
          ],
          "name": "stdout"
        },
        {
          "output_type": "display_data",
          "data": {
            "image/png": "[encoded data removed]",
            "text/plain": [
              "<Figure size 432x288 with 1 Axes>"
            ]
          },
          "metadata": {
            "tags": [],
            "needs_background": "light"
          }
        },
        {
          "output_type": "stream",
          "text": [
            "time: 33.4 s (started: 2021-03-30 16:06:05 +00:00)\n"
          ],
          "name": "stdout"
        }
      ]
    },
    {
      "cell_type": "code",
      "metadata": {
        "id": "FYzDjMFc34v0",
        "colab": {
          "base_uri": "https://localhost:8080/",
          "height": 1000
        },
        "outputId": "ee702a42-9dba-430f-d750-6b3c465e9126"
      },
      "source": [
        "!pip install streamlit\n",
        "!pip install pyngrok==4.1.1\n",
        "from pyngrok import ngrok"
      ],
      "execution_count": 24,
      "outputs": [
        {
          "output_type": "stream",
          "text": [
            "Collecting streamlit\n",
            "\u001b[?25l  Downloading https://files.pythonhosted.org/packages/76/a6/2507aedaa1c80d39eccd601129d273f4091720f4b1031997bb52630ba504/streamlit-0.79.0-py2.py3-none-any.whl (7.0MB)\n",
            "\u001b[K     |████████████████████████████████| 7.0MB 8.1MB/s \n",
            "\u001b[?25hRequirement already satisfied: cachetools>=4.0 in /usr/local/lib/python3.7/dist-packages (from streamlit) (4.2.1)\n",
            "Requirement already satisfied: requests in /usr/local/lib/python3.7/dist-packages (from streamlit) (2.23.0)\n",
            "Requirement already satisfied: toml in /usr/local/lib/python3.7/dist-packages (from streamlit) (0.10.2)\n",
            "Requirement already satisfied: numpy in /usr/local/lib/python3.7/dist-packages (from streamlit) (1.19.5)\n",
            "Requirement already satisfied: tornado>=5.0 in /usr/local/lib/python3.7/dist-packages (from streamlit) (5.1.1)\n",
            "Requirement already satisfied: pillow>=6.2.0 in /usr/local/lib/python3.7/dist-packages (from streamlit) (7.0.0)\n",
            "Collecting validators\n",
            "  Downloading https://files.pythonhosted.org/packages/db/2f/7fed3ee94ad665ad2c1de87f858f10a7785251ff75b4fd47987888d07ef1/validators-0.18.2-py3-none-any.whl\n",
            "Requirement already satisfied: protobuf!=3.11,>=3.6.0 in /usr/local/lib/python3.7/dist-packages (from streamlit) (3.12.4)\n",
            "Collecting base58\n",
            "  Downloading https://files.pythonhosted.org/packages/b8/a1/d9f565e9910c09fd325dc638765e8843a19fa696275c16cc08cf3b0a3c25/base58-2.1.0-py3-none-any.whl\n",
            "Collecting pydeck>=0.1.dev5\n",
            "\u001b[?25l  Downloading https://files.pythonhosted.org/packages/1c/3f/8f04ae0c22d82ec7bec7fcc03270a142f637e362bbd285f7daeeda24fbef/pydeck-0.6.1-py2.py3-none-any.whl (4.6MB)\n",
            "\u001b[K     |████████████████████████████████| 4.6MB 42.6MB/s \n",
            "\u001b[?25hCollecting blinker\n",
            "\u001b[?25l  Downloading https://files.pythonhosted.org/packages/1b/51/e2a9f3b757eb802f61dc1f2b09c8c99f6eb01cf06416c0671253536517b6/blinker-1.4.tar.gz (111kB)\n",
            "\u001b[K     |████████████████████████████████| 112kB 49.3MB/s \n",
            "\u001b[?25hRequirement already satisfied: altair>=3.2.0 in /usr/local/lib/python3.7/dist-packages (from streamlit) (4.1.0)\n",
            "Requirement already satisfied: astor in /usr/local/lib/python3.7/dist-packages (from streamlit) (0.8.1)\n",
            "Requirement already satisfied: pyarrow; python_version < \"3.9\" in /usr/local/lib/python3.7/dist-packages (from streamlit) (3.0.0)\n",
            "Collecting watchdog; platform_system != \"Darwin\"\n",
            "\u001b[?25l  Downloading https://files.pythonhosted.org/packages/c6/ba/a36ca5b4e75649a002f06531862467b3eb5c768caa23d6d88b921fe238d8/watchdog-2.0.2-py3-none-manylinux2014_x86_64.whl (74kB)\n",
            "\u001b[K     |████████████████████████████████| 81kB 8.7MB/s \n",
            "\u001b[?25hRequirement already satisfied: tzlocal in /usr/local/lib/python3.7/dist-packages (from streamlit) (1.5.1)\n",
            "Requirement already satisfied: python-dateutil in /usr/local/lib/python3.7/dist-packages (from streamlit) (2.8.1)\n",
            "Collecting gitpython\n",
            "\u001b[?25l  Downloading https://files.pythonhosted.org/packages/a6/99/98019716955ba243657daedd1de8f3a88ca1f5b75057c38e959db22fb87b/GitPython-3.1.14-py3-none-any.whl (159kB)\n",
            "\u001b[K     |████████████████████████████████| 163kB 57.8MB/s \n",
            "\u001b[?25hRequirement already satisfied: packaging in /usr/local/lib/python3.7/dist-packages (from streamlit) (20.9)\n",
            "Requirement already satisfied: click>=7.0 in /usr/local/lib/python3.7/dist-packages (from streamlit) (7.1.2)\n",
            "Requirement already satisfied: pandas>=0.21.0 in /usr/local/lib/python3.7/dist-packages (from streamlit) (1.1.5)\n",
            "Requirement already satisfied: idna<3,>=2.5 in /usr/local/lib/python3.7/dist-packages (from requests->streamlit) (2.10)\n",
            "Requirement already satisfied: urllib3!=1.25.0,!=1.25.1,<1.26,>=1.21.1 in /usr/local/lib/python3.7/dist-packages (from requests->streamlit) (1.24.3)\n",
            "Requirement already satisfied: chardet<4,>=3.0.2 in /usr/local/lib/python3.7/dist-packages (from requests->streamlit) (3.0.4)\n",
            "Requirement already satisfied: certifi>=2017.4.17 in /usr/local/lib/python3.7/dist-packages (from requests->streamlit) (2020.12.5)\n",
            "Requirement already satisfied: decorator>=3.4.0 in /usr/local/lib/python3.7/dist-packages (from validators->streamlit) (4.4.2)\n",
            "Requirement already satisfied: six>=1.4.0 in /usr/local/lib/python3.7/dist-packages (from validators->streamlit) (1.15.0)\n",
            "Requirement already satisfied: setuptools in /usr/local/lib/python3.7/dist-packages (from protobuf!=3.11,>=3.6.0->streamlit) (54.1.2)\n",
            "Requirement already satisfied: ipywidgets>=7.0.0 in /usr/local/lib/python3.7/dist-packages (from pydeck>=0.1.dev5->streamlit) (7.6.3)\n",
            "Collecting ipykernel>=5.1.2; python_version >= \"3.4\"\n",
            "\u001b[?25l  Downloading https://files.pythonhosted.org/packages/56/95/3a670c8b2c2370bd8631c313f42e60983b3113ffec4035940592252bd6d5/ipykernel-5.5.0-py3-none-any.whl (120kB)\n",
            "\u001b[K     |████████████████████████████████| 122kB 54.2MB/s \n",
            "\u001b[?25hRequirement already satisfied: jinja2>=2.10.1 in /usr/local/lib/python3.7/dist-packages (from pydeck>=0.1.dev5->streamlit) (2.11.3)\n",
            "Requirement already satisfied: traitlets>=4.3.2 in /usr/local/lib/python3.7/dist-packages (from pydeck>=0.1.dev5->streamlit) (5.0.5)\n",
            "Requirement already satisfied: entrypoints in /usr/local/lib/python3.7/dist-packages (from altair>=3.2.0->streamlit) (0.3)\n",
            "Requirement already satisfied: jsonschema in /usr/local/lib/python3.7/dist-packages (from altair>=3.2.0->streamlit) (2.6.0)\n",
            "Requirement already satisfied: toolz in /usr/local/lib/python3.7/dist-packages (from altair>=3.2.0->streamlit) (0.11.1)\n",
            "Requirement already satisfied: pytz in /usr/local/lib/python3.7/dist-packages (from tzlocal->streamlit) (2018.9)\n",
            "Collecting gitdb<5,>=4.0.1\n",
            "\u001b[?25l  Downloading https://files.pythonhosted.org/packages/ea/e8/f414d1a4f0bbc668ed441f74f44c116d9816833a48bf81d22b697090dba8/gitdb-4.0.7-py3-none-any.whl (63kB)\n",
            "\u001b[K     |████████████████████████████████| 71kB 7.4MB/s \n",
            "\u001b[?25hRequirement already satisfied: pyparsing>=2.0.2 in /usr/local/lib/python3.7/dist-packages (from packaging->streamlit) (2.4.7)\n",
            "Requirement already satisfied: ipython>=4.0.0; python_version >= \"3.3\" in /usr/local/lib/python3.7/dist-packages (from ipywidgets>=7.0.0->pydeck>=0.1.dev5->streamlit) (5.5.0)\n",
            "Requirement already satisfied: widgetsnbextension~=3.5.0 in /usr/local/lib/python3.7/dist-packages (from ipywidgets>=7.0.0->pydeck>=0.1.dev5->streamlit) (3.5.1)\n",
            "Requirement already satisfied: jupyterlab-widgets>=1.0.0; python_version >= \"3.6\" in /usr/local/lib/python3.7/dist-packages (from ipywidgets>=7.0.0->pydeck>=0.1.dev5->streamlit) (1.0.0)\n",
            "Requirement already satisfied: nbformat>=4.2.0 in /usr/local/lib/python3.7/dist-packages (from ipywidgets>=7.0.0->pydeck>=0.1.dev5->streamlit) (5.1.2)\n",
            "Requirement already satisfied: jupyter-client in /usr/local/lib/python3.7/dist-packages (from ipykernel>=5.1.2; python_version >= \"3.4\"->pydeck>=0.1.dev5->streamlit) (5.3.5)\n",
            "Requirement already satisfied: MarkupSafe>=0.23 in /usr/local/lib/python3.7/dist-packages (from jinja2>=2.10.1->pydeck>=0.1.dev5->streamlit) (1.1.1)\n",
            "Requirement already satisfied: ipython-genutils in /usr/local/lib/python3.7/dist-packages (from traitlets>=4.3.2->pydeck>=0.1.dev5->streamlit) (0.2.0)\n",
            "Collecting smmap<5,>=3.0.1\n",
            "  Downloading https://files.pythonhosted.org/packages/68/ee/d540eb5e5996eb81c26ceffac6ee49041d473bc5125f2aa995cf51ec1cf1/smmap-4.0.0-py2.py3-none-any.whl\n",
            "Requirement already satisfied: pygments in /usr/local/lib/python3.7/dist-packages (from ipython>=4.0.0; python_version >= \"3.3\"->ipywidgets>=7.0.0->pydeck>=0.1.dev5->streamlit) (2.6.1)\n",
            "Requirement already satisfied: pickleshare in /usr/local/lib/python3.7/dist-packages (from ipython>=4.0.0; python_version >= \"3.3\"->ipywidgets>=7.0.0->pydeck>=0.1.dev5->streamlit) (0.7.5)\n",
            "Requirement already satisfied: simplegeneric>0.8 in /usr/local/lib/python3.7/dist-packages (from ipython>=4.0.0; python_version >= \"3.3\"->ipywidgets>=7.0.0->pydeck>=0.1.dev5->streamlit) (0.8.1)\n",
            "Requirement already satisfied: prompt-toolkit<2.0.0,>=1.0.4 in /usr/local/lib/python3.7/dist-packages (from ipython>=4.0.0; python_version >= \"3.3\"->ipywidgets>=7.0.0->pydeck>=0.1.dev5->streamlit) (1.0.18)\n",
            "Requirement already satisfied: pexpect; sys_platform != \"win32\" in /usr/local/lib/python3.7/dist-packages (from ipython>=4.0.0; python_version >= \"3.3\"->ipywidgets>=7.0.0->pydeck>=0.1.dev5->streamlit) (4.8.0)\n",
            "Requirement already satisfied: notebook>=4.4.1 in /usr/local/lib/python3.7/dist-packages (from widgetsnbextension~=3.5.0->ipywidgets>=7.0.0->pydeck>=0.1.dev5->streamlit) (5.3.1)\n",
            "Requirement already satisfied: jupyter-core in /usr/local/lib/python3.7/dist-packages (from nbformat>=4.2.0->ipywidgets>=7.0.0->pydeck>=0.1.dev5->streamlit) (4.7.1)\n",
            "Requirement already satisfied: pyzmq>=13 in /usr/local/lib/python3.7/dist-packages (from jupyter-client->ipykernel>=5.1.2; python_version >= \"3.4\"->pydeck>=0.1.dev5->streamlit) (22.0.3)\n",
            "Requirement already satisfied: wcwidth in /usr/local/lib/python3.7/dist-packages (from prompt-toolkit<2.0.0,>=1.0.4->ipython>=4.0.0; python_version >= \"3.3\"->ipywidgets>=7.0.0->pydeck>=0.1.dev5->streamlit) (0.2.5)\n",
            "Requirement already satisfied: ptyprocess>=0.5 in /usr/local/lib/python3.7/dist-packages (from pexpect; sys_platform != \"win32\"->ipython>=4.0.0; python_version >= \"3.3\"->ipywidgets>=7.0.0->pydeck>=0.1.dev5->streamlit) (0.7.0)\n",
            "Requirement already satisfied: nbconvert in /usr/local/lib/python3.7/dist-packages (from notebook>=4.4.1->widgetsnbextension~=3.5.0->ipywidgets>=7.0.0->pydeck>=0.1.dev5->streamlit) (5.6.1)\n",
            "Requirement already satisfied: Send2Trash in /usr/local/lib/python3.7/dist-packages (from notebook>=4.4.1->widgetsnbextension~=3.5.0->ipywidgets>=7.0.0->pydeck>=0.1.dev5->streamlit) (1.5.0)\n",
            "Requirement already satisfied: terminado>=0.8.1 in /usr/local/lib/python3.7/dist-packages (from notebook>=4.4.1->widgetsnbextension~=3.5.0->ipywidgets>=7.0.0->pydeck>=0.1.dev5->streamlit) (0.9.2)\n",
            "Requirement already satisfied: bleach in /usr/local/lib/python3.7/dist-packages (from nbconvert->notebook>=4.4.1->widgetsnbextension~=3.5.0->ipywidgets>=7.0.0->pydeck>=0.1.dev5->streamlit) (3.3.0)\n",
            "Requirement already satisfied: pandocfilters>=1.4.1 in /usr/local/lib/python3.7/dist-packages (from nbconvert->notebook>=4.4.1->widgetsnbextension~=3.5.0->ipywidgets>=7.0.0->pydeck>=0.1.dev5->streamlit) (1.4.3)\n",
            "Requirement already satisfied: testpath in /usr/local/lib/python3.7/dist-packages (from nbconvert->notebook>=4.4.1->widgetsnbextension~=3.5.0->ipywidgets>=7.0.0->pydeck>=0.1.dev5->streamlit) (0.4.4)\n",
            "Requirement already satisfied: mistune<2,>=0.8.1 in /usr/local/lib/python3.7/dist-packages (from nbconvert->notebook>=4.4.1->widgetsnbextension~=3.5.0->ipywidgets>=7.0.0->pydeck>=0.1.dev5->streamlit) (0.8.4)\n",
            "Requirement already satisfied: defusedxml in /usr/local/lib/python3.7/dist-packages (from nbconvert->notebook>=4.4.1->widgetsnbextension~=3.5.0->ipywidgets>=7.0.0->pydeck>=0.1.dev5->streamlit) (0.7.1)\n",
            "Requirement already satisfied: webencodings in /usr/local/lib/python3.7/dist-packages (from bleach->nbconvert->notebook>=4.4.1->widgetsnbextension~=3.5.0->ipywidgets>=7.0.0->pydeck>=0.1.dev5->streamlit) (0.5.1)\n",
            "Building wheels for collected packages: blinker\n",
            "  Building wheel for blinker (setup.py) ... \u001b[?25l\u001b[?25hdone\n",
            "  Created wheel for blinker: filename=blinker-1.4-cp37-none-any.whl size=13448 sha256=03e11d30c950f3ef97ac9ee847490fb3a0dd4d1821d86483affd181d4ac506cb\n",
            "  Stored in directory: /root/.cache/pip/wheels/92/a0/00/8690a57883956a301d91cf4ec999cc0b258b01e3f548f86e89\n",
            "Successfully built blinker\n",
            "\u001b[31mERROR: google-colab 1.0.0 has requirement ipykernel~=4.10, but you'll have ipykernel 5.5.0 which is incompatible.\u001b[0m\n",
            "Installing collected packages: validators, base58, ipykernel, pydeck, blinker, watchdog, smmap, gitdb, gitpython, streamlit\n",
            "  Found existing installation: ipykernel 4.10.1\n",
            "    Uninstalling ipykernel-4.10.1:\n",
            "      Successfully uninstalled ipykernel-4.10.1\n",
            "Successfully installed base58-2.1.0 blinker-1.4 gitdb-4.0.7 gitpython-3.1.14 ipykernel-5.5.0 pydeck-0.6.1 smmap-4.0.0 streamlit-0.79.0 validators-0.18.2 watchdog-2.0.2\n"
          ],
          "name": "stdout"
        },
        {
          "output_type": "display_data",
          "data": {
            "application/vnd.colab-display-data+json": {
              "pip_warning": {
                "packages": [
                  "ipykernel"
                ]
              }
            }
          },
          "metadata": {
            "tags": []
          }
        },
        {
          "output_type": "stream",
          "text": [
            "Collecting pyngrok==4.1.1\n",
            "  Downloading https://files.pythonhosted.org/packages/e4/a9/de2e15c92eb3aa4a2646ce3a7542317eb69ac47f667578ce8bf916320847/pyngrok-4.1.1.tar.gz\n",
            "Requirement already satisfied: future in /usr/local/lib/python3.7/dist-packages (from pyngrok==4.1.1) (0.16.0)\n",
            "Requirement already satisfied: PyYAML in /usr/local/lib/python3.7/dist-packages (from pyngrok==4.1.1) (3.13)\n",
            "Building wheels for collected packages: pyngrok\n",
            "  Building wheel for pyngrok (setup.py) ... \u001b[?25l\u001b[?25hdone\n",
            "  Created wheel for pyngrok: filename=pyngrok-4.1.1-cp37-none-any.whl size=15971 sha256=14e39b0c3a5223ea999ffbdcdc3f80a82774e01a5aefe4fd2a0e5de3094c87f7\n",
            "  Stored in directory: /root/.cache/pip/wheels/97/71/0d/1695f7c8815c0beb3b5d9b35d6eec9243c87e6070fbe3977fa\n",
            "Successfully built pyngrok\n",
            "Installing collected packages: pyngrok\n",
            "Successfully installed pyngrok-4.1.1\n",
            "time: 18.3 s (started: 2021-03-30 16:06:51 +00:00)\n"
          ],
          "name": "stdout"
        }
      ]
    },
    {
      "cell_type": "code",
      "metadata": {
        "id": "NmDqySsqTfbA",
        "colab": {
          "base_uri": "https://localhost:8080/"
        },
        "outputId": "efb75be0-9835-4f8f-e242-7defdf51ad16"
      },
      "source": [
        "%%writefile shape_app.py\n",
        "import streamlit as st\n",
        "import numpy as np\n",
        "from skimage.io import imread\n",
        "from skimage.tranform import resize\n",
        "import pickle \n",
        "from PIL import Image \n",
        "st.title('Image Classification Using Machine Learning Algorithm')\n",
        "st.text(\"Upload the Image\")\n",
        "\n",
        "uplaoded_file = st.file_uploader(\"Choose an Image\", type = ([\"jpg\",\"png\"]))\n",
        "if uplaoded_file is not None:\n",
        "  img = Image.open(uploaded_file)\n",
        "  st.image(img,caption='Uploaded Image')\n",
        "\n",
        "  if st.button('Predict'):\n",
        "    st.write('Result .. ')\n",
        "    flat_test_data=[]\n",
        "    img = np.array(img)\n",
        "    image_test_resized = resize(img_test,(150,150,3))\n",
        "    flat_test_data.append(image_test_resized.flatten())\n",
        "    flat_test_data = np.array(flat_test_data)\n",
        "    y_out = final_model.predict(flat_test_data)\n",
        "    y_out = CATEGORIES[y_out[0]]\n",
        "    st.title(f' PREDICTED OUTPUT: {y_out} ')\n",
        "    q = final_model.predic_proba(flat_test_data)\n",
        "    for index, item in enumerate(CATEGORIES):\n",
        "      st.write(f' {item} : {a[0][index]*100}%')"
      ],
      "execution_count": 25,
      "outputs": [
        {
          "output_type": "stream",
          "text": [
            "Writing shape_app.py\n",
            "time: 4.4 ms (started: 2021-03-30 16:07:09 +00:00)\n"
          ],
          "name": "stdout"
        }
      ]
    },
    {
      "cell_type": "code",
      "metadata": {
        "id": "fw01HCQ7TxBp",
        "colab": {
          "base_uri": "https://localhost:8080/",
          "height": 52
        },
        "outputId": "2b0eef4e-f44d-4d4f-a781-6d3ca74f88e8"
      },
      "source": [
        "!nohup streamlit run shape_app.py &\n",
        "url = ngrok.connect(port='8051')\n",
        "url"
      ],
      "execution_count": 26,
      "outputs": [
        {
          "output_type": "stream",
          "text": [
            "nohup: appending output to 'nohup.out'\n"
          ],
          "name": "stdout"
        },
        {
          "output_type": "execute_result",
          "data": {
            "application/vnd.google.colaboratory.intrinsic+json": {
              "type": "string"
            },
            "text/plain": [
              "'http://2f5b4ebd5a48.ngrok.io'"
            ]
          },
          "metadata": {
            "tags": []
          },
          "execution_count": 26
        },
        {
          "output_type": "stream",
          "text": [
            "time: 2.19 s (started: 2021-03-30 16:07:09 +00:00)\n"
          ],
          "name": "stdout"
        }
      ]
    },
    {
      "cell_type": "code",
      "metadata": {
        "id": "TckfND6bXqZt"
      },
      "source": [
        ""
      ],
      "execution_count": null,
      "outputs": []
    },
    {
      "cell_type": "code",
      "metadata": {
        "id": "QHLdLcjE1lsI"
      },
      "source": [
        ""
      ],
      "execution_count": null,
      "outputs": []
    }
  ]
}